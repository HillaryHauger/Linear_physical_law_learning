{
 "cells": [
  {
   "cell_type": "markdown",
   "id": "e0fc3a67",
   "metadata": {},
   "source": [
    "# Test frequency method on Heat equation $u_t = a \\triangle u$\n",
    "Compare two methods:\n",
    "1. Calculate the derivative via extension and fftn, then use Linear Regression with $L_1$ norm\n",
    "2. Use curve fitting via pytorch for $\\hat{u}(t,\\xi) = \\hat{u}(0,\\xi)exp(t\\sum_j(a_ji^{|j|}\\xi^j))$ to calculate coefficients.\n",
    "3. Use PDE-FIND Algorithm\n",
    "\n",
    "Additionally we will perform Curve Fit several times and then calculate the median and standard deviation, because the parameters are randomly initialised. This can lead to different results although the other parameters used for the calculation stay the same.\n",
    "We will do this without noise and for noise equal to $10^{-5}$."
   ]
  },
  {
   "cell_type": "code",
   "execution_count": 1,
   "id": "1e1b3468",
   "metadata": {},
   "outputs": [],
   "source": [
    "# Packages\n",
    "import numpy as np\n",
    "import torch\n",
    "import math\n",
    "import matplotlib.pyplot as plt\n",
    "import scipy.linalg\n",
    "import statsmodels.api as sm\n",
    "import itertools\n",
    "import pysindy as ps\n",
    "import pandas as pd\n",
    "\n",
    "from scipy.optimize import minimize\n",
    "from scipy.fft import fftn, ifftn, fftfreq,fft\n",
    "\n",
    "from ipynb.fs.full.frequency_method_functions import *"
   ]
  },
  {
   "cell_type": "code",
   "execution_count": 2,
   "id": "14aac2c8",
   "metadata": {
    "scrolled": true
   },
   "outputs": [],
   "source": [
    "#L_2 norm for parameter lists\n",
    "def distance_para(lista,listb):\n",
    "    return np.sqrt( np.square(np.array(lista)-np.array(listb)).sum() ) \n",
    "\n",
    "#Revert torch parameter list back to list, so distance_para calc is possible\n",
    "def revert_torchparameterlist_tolist(parameter_list):\n",
    "    for i in range(len(parameter_list)):\n",
    "        parameter_list[i]=parameter_list[i].detach().numpy()\n",
    "    parameter_list=parameter_list\n",
    "    return parameter_list"
   ]
  },
  {
   "cell_type": "markdown",
   "id": "82c4532c",
   "metadata": {},
   "source": [
    "### Heat equation: $u_t = \\alpha \\triangle u$ \n",
    "We use the Fundamental solution: $$\\Theta(t,x) =  \\frac{1}{(4\\pi\\alpha t)^{n/2}} exp(-\\frac{x\\cdot x}{4\\alpha t})$$ in 2 and 3 dimensional case."
   ]
  },
  {
   "cell_type": "markdown",
   "id": "ac574ea1",
   "metadata": {},
   "source": [
    "## 2 dimensions"
   ]
  },
  {
   "cell_type": "code",
   "execution_count": 3,
   "id": "ec89cbbc",
   "metadata": {},
   "outputs": [],
   "source": [
    "#Create dataframes to save data\n",
    "a=2.0\n",
    "#filepath where you want to save the filed\n",
    "filepath=r\"/home/math/hauger/Dokumente/Bachelor-Arbeit/results_data/heat_equation\"\n",
    "noise_df_pdefind = pd.DataFrame(index=range(0,11),columns=[\"parameters\",\"standard deviation\",\"distance\",\"eps\"])\n",
    "noise_df_regr = pd.DataFrame(index=range(0,11),columns=[\"parameters\",\"standard deviation\",\"distance\",\"eps\"])\n",
    "noise_df_curve = pd.DataFrame(index=range(0,11),columns=[\"parameters\",\"standard deviation\",\"distance\",\"eps\"])\n",
    "\n",
    "real_para_pdefind = [[0,a]]\n",
    "real_para_regr = [0,0,a]\n",
    "real_para_curve = [0,0,a]\n",
    "\n",
    "list_para_pdefind =[]\n",
    "list_para_regr=[]\n",
    "list_para_curve =[]"
   ]
  },
  {
   "cell_type": "code",
   "execution_count": 8,
   "id": "71e48369",
   "metadata": {},
   "outputs": [
    {
     "name": "stdout",
     "output_type": "stream",
     "text": [
      "(u)' = 1.574 u_11\n",
      "Real Coefficients\n",
      "(0, 0, 2.0)\n",
      "Regression\n",
      "[-1.50340949e-03 -3.83959021e-07  1.96930565e+00]\n",
      "PDE-Find\n",
      "[[0.         1.57427169]]\n"
     ]
    }
   ],
   "source": [
    "T,X,t,x= create_data_2d(0.01,2,5,150,100)\n",
    "a = 2.0\n",
    "u = 1.0/(np.sqrt(4*np.pi*a*T))*np.exp(-(X*X)/(4*a*T))\n",
    "para_regr=frequency_method_regr(u,[x,t],order=2)\n",
    "para_find=pde_find(u,t,x,order=2)\n",
    "print(\"Real Coefficients\")\n",
    "print((0,0,a))\n",
    "print(\"Regression\")\n",
    "print(para_regr)\n",
    "print(\"PDE-Find\")\n",
    "print(para_find)"
   ]
  },
  {
   "cell_type": "code",
   "execution_count": 9,
   "id": "7b054368",
   "metadata": {},
   "outputs": [
    {
     "name": "stdout",
     "output_type": "stream",
     "text": [
      "CurveFit\n",
      "99 0.04078125118866556\n",
      "[Parameter containing:\n",
      "tensor([-0.2449], dtype=torch.float64, requires_grad=True), Parameter containing:\n",
      "tensor([-0.0009], dtype=torch.float64, requires_grad=True), Parameter containing:\n",
      "tensor([1.4686], dtype=torch.float64, requires_grad=True)]\n",
      "199 0.039689742653011686\n",
      "[Parameter containing:\n",
      "tensor([-0.2359], dtype=torch.float64, requires_grad=True), Parameter containing:\n",
      "tensor([1.5719e-05], dtype=torch.float64, requires_grad=True), Parameter containing:\n",
      "tensor([1.5221], dtype=torch.float64, requires_grad=True)]\n",
      "299 0.03967613595650955\n",
      "[Parameter containing:\n",
      "tensor([-0.2358], dtype=torch.float64, requires_grad=True), Parameter containing:\n",
      "tensor([1.0234e-06], dtype=torch.float64, requires_grad=True), Parameter containing:\n",
      "tensor([1.5342], dtype=torch.float64, requires_grad=True)]\n",
      "399 0.03967613119749781\n",
      "[Parameter containing:\n",
      "tensor([-0.2357], dtype=torch.float64, requires_grad=True), Parameter containing:\n",
      "tensor([1.6595e-05], dtype=torch.float64, requires_grad=True), Parameter containing:\n",
      "tensor([1.5342], dtype=torch.float64, requires_grad=True)]\n",
      "499 0.039676205933006185\n",
      "[Parameter containing:\n",
      "tensor([-0.2357], dtype=torch.float64, requires_grad=True), Parameter containing:\n",
      "tensor([-0.0001], dtype=torch.float64, requires_grad=True), Parameter containing:\n",
      "tensor([1.5343], dtype=torch.float64, requires_grad=True)]\n"
     ]
    },
    {
     "data": {
      "image/png": "[encoded data removed]",
      "text/plain": [
       "<Figure size 640x480 with 1 Axes>"
      ]
     },
     "metadata": {},
     "output_type": "display_data"
    },
    {
     "name": "stdout",
     "output_type": "stream",
     "text": [
      "[Parameter containing:\n",
      "tensor([-0.2358], dtype=torch.float64, requires_grad=True), Parameter containing:\n",
      "tensor([-2.1406e-05], dtype=torch.float64, requires_grad=True), Parameter containing:\n",
      "tensor([1.5343], dtype=torch.float64, requires_grad=True)]\n"
     ]
    }
   ],
   "source": [
    "print(\"CurveFit\")\n",
    "para_curve=frequency_method_curvefit(u,T,[x],ax=[0],order=2,print_loss=True,epochs=500)\n",
    "print(para_curve)"
   ]
  },
  {
   "cell_type": "code",
   "execution_count": 13,
   "id": "c83a34b5",
   "metadata": {},
   "outputs": [],
   "source": [
    "noise_df_pdefind.loc[0,[\"standard deviation\",\"eps\",\"distance\"]]=[0.0,0.0,distance_para(para_find,real_para_pdefind)]\n",
    "noise_df_pdefind.at[0,\"parameters\"]=para_find\n",
    "\n",
    "noise_df_regr.loc[0,[\"standard deviation\",\"eps\",\"distance\"]]=[0.0,0.0,distance_para(para_regr,real_para_regr)]\n",
    "noise_df_regr.at[0,\"parameters\"]=para_regr\n",
    "\n",
    "para_curve=np.array(revert_torchparameterlist_tolist(para_curve)).reshape(3)\n",
    "#para_curve=np.array(para_curve).reshape(3)\n",
    "noise_df_curve.loc[0,[\"standard deviation\",\"eps\",\"distance\"]]=[0.0,0.0,distance_para(para_curve,real_para_curve)]\n",
    "noise_df_curve.at[0,\"parameters\"]=para_curve\n",
    "\n",
    "list_para_pdefind.append(para_find)\n",
    "list_para_regr.append(para_regr)\n",
    "list_para_curve.append(para_curve)"
   ]
  },
  {
   "cell_type": "markdown",
   "id": "092df043",
   "metadata": {},
   "source": [
    "#### Add Noise and save Results"
   ]
  },
  {
   "cell_type": "markdown",
   "id": "0933bdfd",
   "metadata": {},
   "source": [
    "#### 1. Calculate results for Regression and Pde Find with Noise"
   ]
  },
  {
   "cell_type": "code",
   "execution_count": 17,
   "id": "0ecd4e23",
   "metadata": {},
   "outputs": [],
   "source": [
    "# Pde Find and Linear Regression\n",
    "# 2 dim + noise \n",
    "u_rms = np.sqrt(np.mean(u*u))\n",
    "eps = 1e-10\n",
    "std_deviation = eps*u_rms\n",
    "\n",
    "for i in range (10):\n",
    "    noise = np.random.normal(0,std_deviation,u.shape)\n",
    "    u_noise = u.copy()+noise\n",
    "    #Calculate parameters\n",
    "    para_pdefind = pde_find(u_noise,t,x,order=2,print_model=False)\n",
    "    para_regr = frequency_method_regr(u_noise,[x,t],order=2)\n",
    "    #Save std_dev, distance, eps in dataframe\n",
    "    noise_df_pdefind.loc[i+1,[\"standard deviation\",\"distance\",\"eps\"]] = [std_deviation,\n",
    "                                                                       distance_para(para_pdefind,real_para_pdefind)\n",
    "                                                                      ,eps]\n",
    "    noise_df_regr.loc[i+1,[\"standard deviation\",\"distance\",\"eps\"]] = [std_deviation,\n",
    "                                                                       distance_para(para_regr,real_para_regr)\n",
    "                                                                      ,eps]\n",
    "    #Save parameters\n",
    "    list_para_pdefind.append(para_pdefind)\n",
    "    list_para_regr.append(para_regr)\n",
    "    noise_df_pdefind.at[i+1,\"parameters\"]=para_pdefind\n",
    "    noise_df_regr.at[i+1,\"parameters\"]=para_regr\n",
    "    \n",
    "    #Update noise\n",
    "    eps *=10\n",
    "    std_deviation *=10"
   ]
  },
  {
   "cell_type": "markdown",
   "id": "f8b34bd9",
   "metadata": {},
   "source": [
    "#### 2. Calculate results for Curve Fit with Noise"
   ]
  },
  {
   "cell_type": "code",
   "execution_count": 18,
   "id": "f34b2408",
   "metadata": {},
   "outputs": [],
   "source": [
    "# Curve Fit\n",
    "# 2 dim + noise \n",
    "u_rms = np.sqrt(np.mean(u*u))\n",
    "eps = 1e-10\n",
    "std_deviation = eps*u_rms\n",
    "\n",
    "for i in range (10):\n",
    "    noise = np.random.normal(0,std_deviation,u.shape)\n",
    "    u_noise = u.copy()+noise\n",
    "    #Calculate parameters\n",
    "    para_curve=frequency_method_curvefit(u_noise,T,[x],ax=[0],order=2,print_loss=False,epochs=500)\n",
    "    para_curve=np.array(revert_torchparameterlist_tolist(para_curve)).reshape(3)\n",
    "    #Save std_dev, distance, eps in dataframe\n",
    "    noise_df_curve.loc[i+1,[\"standard deviation\",\"distance\",\"eps\"]] = [std_deviation,\n",
    "                                                                       distance_para(para_curve,real_para_curve)\n",
    "                                                                      ,eps]\n",
    "    #Save parameters\n",
    "    list_para_curve.append(para_curve)\n",
    "    noise_df_curve.at[i+1,\"parameters\"]=para_curve\n",
    "    \n",
    "    #Update noise\n",
    "    eps *=10\n",
    "    std_deviation *=10"
   ]
  },
  {
   "cell_type": "markdown",
   "id": "18c2513c",
   "metadata": {},
   "source": [
    "#### Plot Noise"
   ]
  },
  {
   "cell_type": "code",
   "execution_count": 19,
   "id": "c31188f6",
   "metadata": {},
   "outputs": [
    {
     "data": {
      "image/png": "[encoded data removed]",
      "text/plain": [
       "<Figure size 550x350 with 1 Axes>"
      ]
     },
     "metadata": {},
     "output_type": "display_data"
    }
   ],
   "source": [
    "plt.figure(figsize=(5.5,3.5))\n",
    "mysize=8\n",
    "xticks=[\"$\\mathregular{0}$\"]\n",
    "for i in range(10):\n",
    "    xticks.append(\"$\\mathregular{10^{\"+str(-10+i)+\"}}$\")\n",
    "\n",
    "ax=plt.subplot(111)\n",
    "default_x_ticks = range(len(xticks))\n",
    "ax.plot(default_x_ticks,noise_df_pdefind[\"distance\"],'s-',color='tab:blue',label = 'PDE-FIND')\n",
    "ax.plot(default_x_ticks,noise_df_regr[\"distance\"],'s-',color='tab:orange',label='Frequency Regression')\n",
    "ax.plot(default_x_ticks,noise_df_curve[\"distance\"],'s-',color='tab:green',label='Frequency Fit')\n",
    "ax.ticklabel_format(style='sci',scilimits=(-3,4),axis='both')\n",
    "plt.xlabel(\"noise\",size=mysize)\n",
    "plt.ylabel(\"distance\",size=mysize)\n",
    "plt.xticks(default_x_ticks, xticks,size=mysize)\n",
    "plt.legend(loc=2,prop={'size': 7})\n",
    "ax.spines.right.set_visible(False)\n",
    "ax.spines.top.set_visible(False)\n",
    "plt.show()"
   ]
  },
  {
   "cell_type": "markdown",
   "id": "ab2174bb",
   "metadata": {},
   "source": [
    "#### Print Parameters with Noise: "
   ]
  },
  {
   "cell_type": "markdown",
   "id": "4cd2e2dc",
   "metadata": {},
   "source": [
    "PDE-Find"
   ]
  },
  {
   "cell_type": "code",
   "execution_count": 20,
   "id": "362dba0b",
   "metadata": {
    "scrolled": true
   },
   "outputs": [
    {
     "name": "stdout",
     "output_type": "stream",
     "text": [
      "Noise 0: [[0.         1.57427169]]\n",
      "Noise 1: [[-3.69720781e-11  1.57427169e+00]]\n",
      "Noise 2: [[-1.76603931e-09  1.57427169e+00]]\n",
      "Noise 3: [[9.18661393e-09 1.57427169e+00]]\n",
      "Noise 4: [[-8.35332196e-08  1.57427164e+00]]\n",
      "Noise 5: [[-1.49389326e-06  1.57427153e+00]]\n",
      "Noise 6: [[-2.20944017e-06  1.57426803e+00]]\n",
      "Noise 7: [[-2.28339719e-04  1.57371407e+00]]\n",
      "Noise 8: [[-2.74568560e-05  1.51907738e+00]]\n",
      "Noise 9: [[0.00247607 0.34105234]]\n",
      "Noise 10: [[-0.02600441  0.0048463 ]]\n"
     ]
    }
   ],
   "source": [
    "for i in range(len(list_para_pdefind)):\n",
    "    print(\"Noise \"+str(i)+\": \"+str(list_para_pdefind[i])) "
   ]
  },
  {
   "cell_type": "markdown",
   "id": "35836a16",
   "metadata": {},
   "source": [
    "Linear Regression"
   ]
  },
  {
   "cell_type": "code",
   "execution_count": 21,
   "id": "03d4030f",
   "metadata": {},
   "outputs": [
    {
     "name": "stdout",
     "output_type": "stream",
     "text": [
      "Noise 0: [-1.50340949e-03 -3.83959021e-07  1.96930565e+00]\n",
      "Noise 1: [-1.50225136e-03 -1.19086777e-06  1.96930502e+00]\n",
      "Noise 2: [-1.50064242e-03  6.19149268e-06  1.96930992e+00]\n",
      "Noise 3: [-1.53503214e-03  1.43927332e-05  1.96929276e+00]\n",
      "Noise 4: [-1.54781215e-03  8.42569889e-05  1.96885095e+00]\n",
      "Noise 5: [-1.80882947e-03 -6.50837368e-06  1.96795627e+00]\n",
      "Noise 6: [-4.17794165e-03  1.23570148e-05  1.93814124e+00]\n",
      "Noise 7: [-0.03467965  0.0063178   1.65683584]\n",
      "Noise 8: [-0.30959534 -0.00482684  0.10538719]\n",
      "Noise 9: [-0.50538346 -0.02098156  0.00261096]\n",
      "Noise 10: [-9.28857953e-01 -7.82865537e-02 -5.76411012e-04]\n"
     ]
    }
   ],
   "source": [
    "for i in range(len(list_para_regr)):\n",
    "    print(\"Noise \"+str(i)+\": \"+str(list_para_regr[i])) "
   ]
  },
  {
   "cell_type": "markdown",
   "id": "dac107a5",
   "metadata": {},
   "source": [
    "Curve Fit"
   ]
  },
  {
   "cell_type": "code",
   "execution_count": 22,
   "id": "bfaf9424",
   "metadata": {
    "scrolled": true
   },
   "outputs": [
    {
     "name": "stdout",
     "output_type": "stream",
     "text": [
      "Noise 0: [-2.35753832e-01 -2.14061079e-05  1.53426542e+00]\n",
      "Noise 1: [-2.35743154e-01  1.02127764e-08  1.53419306e+00]\n",
      "Noise 2: [-2.35768886e-01 -4.05516345e-05  1.53419055e+00]\n",
      "Noise 3: [-2.35764022e-01 -4.09168063e-04  1.53428373e+00]\n",
      "Noise 4: [-2.35783007e-01 -2.18265994e-08  1.51867778e+00]\n",
      "Noise 5: [-2.35830822e-01  2.53194122e-07  1.53426919e+00]\n",
      "Noise 6: [-2.36221747e-01  1.65169947e-05  1.39920254e+00]\n",
      "Noise 7: [-2.35758722e-01  5.81237847e-06  1.53427620e+00]\n",
      "Noise 8: [-2.35802441e-01 -3.33005635e-04  1.53454705e+00]\n",
      "Noise 9: [-0.23553003  0.00253995  1.53947411]\n",
      "Noise 10: [-0.23327012 -0.0207558   1.5425143 ]\n"
     ]
    }
   ],
   "source": [
    "for i in range(len(list_para_curve)):\n",
    "    print(\"Noise \"+str(i)+\": \"+str(list_para_curve[i].reshape(3))) "
   ]
  },
  {
   "cell_type": "code",
   "execution_count": 23,
   "id": "524c5a98",
   "metadata": {},
   "outputs": [],
   "source": [
    "#Save data in csv frame\n",
    "noise_df_pdefind.to_csv(filepath+\"/noise_pdefind_2d.csv\",sep=';')\n",
    "noise_df_regr.to_csv(filepath+\"/noise_regression_2d.csv\",sep=';')\n",
    "noise_df_curve.to_csv(filepath+\"/noise_curve_2d.csv\",sep=';')"
   ]
  },
  {
   "cell_type": "markdown",
   "id": "9a087fa3",
   "metadata": {},
   "source": [
    "### Curve Fit: Perform several times\n",
    "Because Curve Fit depending on the random initialising of parameters, will calculate differernt results.\n",
    "We perform Curve Fitting 20 times and then calculate the mean and standard deviation of the computed parameters.\n",
    "We will perform this without noise and with noise $10^{-5}$"
   ]
  },
  {
   "cell_type": "code",
   "execution_count": 24,
   "id": "aeb65267",
   "metadata": {},
   "outputs": [],
   "source": [
    "T,X,t,x= create_data_2d(0.01,2,5,150,100)\n",
    "a = 2.0\n",
    "u = 1.0/(np.sqrt(4*np.pi*a*T))*np.exp(-(X*X)/(4*a*T))\n",
    "\n",
    "iter_num =20\n",
    "number_para = 3\n",
    "#Create dataframe for saving data\n",
    "df_curve_iter = pd.DataFrame(index=range(iter_num),columns=[\"parameters\",\"parameters with noise\"])\n",
    "df_curve_iter_stdmean=pd.DataFrame(index=range(number_para),columns = [\"mean\",\"std\",\"mean noise\",\"std noise\"])"
   ]
  },
  {
   "cell_type": "code",
   "execution_count": 25,
   "id": "45d27a2e",
   "metadata": {},
   "outputs": [],
   "source": [
    "#without noise\n",
    "para_curve_fit_median = []\n",
    "for i in range(iter_num):\n",
    "    para_curve = frequency_method_curvefit(u,T,[x],ax=[0],order=2,print_loss=False,epochs=500)\n",
    "    para_curve=np.array(revert_torchparameterlist_tolist(para_curve)).reshape(number_para)\n",
    "    df_curve_iter.at[i,\"parameters\"]=para_curve\n",
    "    para_curve_fit_median.append(para_curve) "
   ]
  },
  {
   "cell_type": "code",
   "execution_count": 26,
   "id": "7c011885",
   "metadata": {},
   "outputs": [],
   "source": [
    "#with noise\n",
    "para_curve_fit_median_noise = []\n",
    "u_rms = np.sqrt(np.mean(u*u))\n",
    "eps = 1e-5\n",
    "std_deviation = eps*u_rms\n",
    "noise = np.random.normal(0,std_deviation,u.shape)\n",
    "u_noise = u.copy()+noise\n",
    "for i in range(iter_num):\n",
    "    para_curve = frequency_method_curvefit(u_noise,T,[x],ax=[0],order=2,print_loss=False,epochs=500)\n",
    "    para_curve=np.array(revert_torchparameterlist_tolist(para_curve)).reshape(number_para)\n",
    "    df_curve_iter.at[i,\"parameters with noise\"]=para_curve\n",
    "    para_curve_fit_median_noise.append(para_curve) "
   ]
  },
  {
   "cell_type": "markdown",
   "id": "aaf3c508",
   "metadata": {},
   "source": [
    "#### Plot Results"
   ]
  },
  {
   "cell_type": "code",
   "execution_count": 36,
   "id": "20c69fc6",
   "metadata": {},
   "outputs": [],
   "source": [
    "mean = np.zeros(number_para)\n",
    "std = np.zeros(number_para)\n",
    "mean_noise = mean.copy()\n",
    "std_noise = std.copy()\n",
    "boxplot_data=[]\n",
    "boxplot_data_noise=[]\n",
    "for i in range(len(mean)):\n",
    "    #no noise\n",
    "    para = [v[i] for v in para_curve_fit_median]\n",
    "    mean[i] = np.mean(para)\n",
    "    std[i] = np.std(para)\n",
    "    boxplot_data.append(np.array(para))\n",
    "    #with noiese\n",
    "    para_noise = [v[i] for v in para_curve_fit_median_noise]\n",
    "    mean_noise[i] = np.mean(para_noise)\n",
    "    std_noise[i] = np.std(para_noise)\n",
    "    boxplot_data_noise.append(np.array(para))"
   ]
  },
  {
   "cell_type": "code",
   "execution_count": 28,
   "id": "08312619",
   "metadata": {},
   "outputs": [],
   "source": [
    "#Save mean and standard deviation in dataframe\n",
    "df_curve_iter_stdmean[\"mean\"]=mean\n",
    "df_curve_iter_stdmean[\"std\"]=std\n",
    "df_curve_iter_stdmean[\"mean noise\"]=mean_noise\n",
    "df_curve_iter_stdmean[\"std noise\"]=std_noise"
   ]
  },
  {
   "cell_type": "code",
   "execution_count": 41,
   "id": "71f0cccd",
   "metadata": {},
   "outputs": [
    {
     "data": {
      "image/png": "[encoded data removed]",
      "text/plain": [
       "<Figure size 400x300 with 1 Axes>"
      ]
     },
     "metadata": {},
     "output_type": "display_data"
    }
   ],
   "source": [
    "#with noise\n",
    "fig, ax = plt.subplots(figsize=(4,3))\n",
    "x=np.arange(1,number_para+1)\n",
    "c=\"tab:green\"\n",
    "ax.boxplot(boxplot_data, patch_artist=True,medianprops=dict(color=c))\n",
    "ax.set_ylabel('Coefficients')\n",
    "ax.set_xticks(x)\n",
    "ax.set_xticklabels([\"$\\mathregular{c_0}$\",\"$\\mathregular{c_1}$,\",\"$\\mathregular{c_{11}}$,\"])\n",
    "plt.tight_layout()\n",
    "plt.show()"
   ]
  },
  {
   "cell_type": "code",
   "execution_count": 40,
   "id": "4456193f",
   "metadata": {
    "scrolled": true
   },
   "outputs": [
    {
     "data": {
      "image/png": "[encoded data removed]",
      "text/plain": [
       "<Figure size 400x300 with 1 Axes>"
      ]
     },
     "metadata": {},
     "output_type": "display_data"
    }
   ],
   "source": [
    "#with noise\n",
    "fig, ax = plt.subplots(figsize=(4,3))\n",
    "x=np.arange(1,number_para+1)\n",
    "c=\"tab:green\"\n",
    "ax.boxplot(boxplot_data_noise, patch_artist=True,medianprops=dict(color=c))\n",
    "ax.set_ylabel('Coefficients')\n",
    "ax.set_xticks(x)\n",
    "ax.set_xticklabels([\"$\\mathregular{c_0}$\",\"$\\mathregular{c_1}$,\",\"$\\mathregular{c_{11}}$,\"])\n",
    "plt.tight_layout()\n",
    "plt.show()"
   ]
  },
  {
   "cell_type": "code",
   "execution_count": 31,
   "id": "22079f61",
   "metadata": {},
   "outputs": [],
   "source": [
    "#Save data locally in csv file\n",
    "df_curve_iter.to_csv(filepath+\"/curve_iter_2d.csv\",sep=';')\n",
    "df_curve_iter_stdmean.to_csv(filepath+\"/curve_iter_meanstd_2d.csv\",sep=';')"
   ]
  },
  {
   "cell_type": "markdown",
   "id": "25217f1f",
   "metadata": {},
   "source": [
    "## 3 dimensions"
   ]
  },
  {
   "cell_type": "code",
   "execution_count": 3,
   "id": "4b324c8c",
   "metadata": {},
   "outputs": [],
   "source": [
    "a=2\n",
    "#filepath where you want to save the filed\n",
    "filepath=r\"/home/math/hauger/Dokumente/Bachelor-Arbeit/results_data/heat_equation\"\n",
    "noise_df_pdefind = pd.DataFrame(index=range(0,11),columns=[\"parameters\",\"standard deviation\",\"distance\",\"eps\"])\n",
    "noise_df_regr = pd.DataFrame(index=range(0,11),columns=[\"parameters\",\"standard deviation\",\"distance\",\"eps\"])\n",
    "noise_df_curve = pd.DataFrame(index=range(0,11),columns=[\"parameters\",\"standard deviation\",\"distance\",\"eps\"])\n",
    "\n",
    "real_para_curve = [0,0,0,a,0,a]\n",
    "real_para_pdefind = [[0,a,0,0,a]]\n",
    "real_para_regr = [0,0,0,a,0,a]\n",
    "\n",
    "list_para_pdefind =[]\n",
    "list_para_regr=[]\n",
    "list_para_curve =[]"
   ]
  },
  {
   "cell_type": "code",
   "execution_count": 4,
   "id": "d532a4a2",
   "metadata": {},
   "outputs": [],
   "source": [
    "T,X,Y,t,x,y = create_data_3d(T_start=0.01, T_end=5, L_x=5,L_y=5, N_t=200, N_x=150,N_y=150)\n",
    "u = 1.0/(4*np.pi*a*T) * np.exp(-(X*X+Y*Y)/(4*a*T) )"
   ]
  },
  {
   "cell_type": "markdown",
   "id": "57802e1f",
   "metadata": {},
   "source": [
    " #### 1. Linear Regression"
   ]
  },
  {
   "cell_type": "code",
   "execution_count": 5,
   "id": "b22e487c",
   "metadata": {},
   "outputs": [
    {
     "name": "stdout",
     "output_type": "stream",
     "text": [
      "Real Coefficients\n",
      "u,u_x,u_y,u_xx,u_xy,u_yy\n",
      "(0, 0, 0, 2, 0, 2)\n",
      "Regression\n",
      "[-6.88498613e-02 -1.91648009e-07 -1.35880132e-08  1.54041156e+00\n",
      " -7.14954707e-09  1.54041159e+00]\n"
     ]
    }
   ],
   "source": [
    "#Regression 3 dim\n",
    "print(\"Real Coefficients\")\n",
    "print(\"u,u_x,u_y,u_xx,u_xy,u_yy\")\n",
    "print((0,0,0,a,0,a))\n",
    "print(\"Regression\")\n",
    "para_regr=frequency_method_regr(u,[x,t,y],order=2)\n",
    "print(para_regr)"
   ]
  },
  {
   "cell_type": "code",
   "execution_count": 6,
   "id": "2725c6e5",
   "metadata": {},
   "outputs": [],
   "source": [
    "noise_df_regr.loc[0,[\"standard deviation\",\"eps\",\"distance\"]]=[0.0,0.0,distance_para(para_regr,real_para_regr)]\n",
    "noise_df_regr.at[0,\"parameters\"]=para_regr"
   ]
  },
  {
   "cell_type": "markdown",
   "id": "04298976",
   "metadata": {},
   "source": [
    "#### Add Noise and save Results: Linear Regression"
   ]
  },
  {
   "cell_type": "code",
   "execution_count": 7,
   "id": "d48cccc2",
   "metadata": {},
   "outputs": [
    {
     "name": "stdout",
     "output_type": "stream",
     "text": [
      "0\n",
      "1\n",
      "2\n",
      "3\n",
      "4\n",
      "5\n",
      "6\n",
      "7\n",
      "8\n",
      "9\n"
     ]
    }
   ],
   "source": [
    "#Linear Regression 3 dim + noise \n",
    "# computational a lot of work!!\n",
    "u_rms = np.sqrt(np.mean(u*u))\n",
    "eps = 1e-10\n",
    "std_deviation = eps*u_rms\n",
    "\n",
    "for i in range (10):\n",
    "    print(i)\n",
    "    noise = np.random.normal(0,std_deviation,u.shape)\n",
    "    u_noise = u.copy()+noise\n",
    "    #Calculate parameters\n",
    "    para_regr = frequency_method_regr(u_noise,[x,t,y],order=2)\n",
    "    #Save std_dev, distance, eps in dataframe\n",
    "    noise_df_regr.loc[i+1,[\"standard deviation\",\"distance\",\"eps\"]] = [std_deviation,\n",
    "                                                                       distance_para(para_regr,real_para_regr)\n",
    "                                                                      ,eps]\n",
    "    list_para_regr.append(para_regr)\n",
    "    noise_df_regr.at[i+1,\"parameters\"]=para_regr\n",
    "    \n",
    "    #Update noise\n",
    "    eps *=10\n",
    "    std_deviation *=10"
   ]
  },
  {
   "cell_type": "markdown",
   "id": "14ffd5be",
   "metadata": {},
   "source": [
    " #### 2. PDE Find"
   ]
  },
  {
   "cell_type": "code",
   "execution_count": 8,
   "id": "164360ad",
   "metadata": {},
   "outputs": [
    {
     "name": "stdout",
     "output_type": "stream",
     "text": [
      "(u)' = 0.969 u_22 + 0.969 u_11\n",
      "[[0.        0.9691577 0.        0.        0.9691577]]\n"
     ]
    }
   ],
   "source": [
    "#PDE Find\n",
    "a=2\n",
    "t = np.linspace(0.01, 5, num=200)\n",
    "x = np.linspace(-5.0/2.0, 5.0/2.0, num=150)\n",
    "y = np.linspace(-5.0/2.0, 5.0/2.0, num=150)\n",
    "Y,X,T = np.meshgrid(y,x,t)\n",
    "dt = t[1]-t[0]\n",
    "\n",
    "u = 1.0/(4*np.pi*a*T) * np.exp(-(X*X+Y*Y)/(4*a*T) )\n",
    "u_sindy = u.reshape(len(x),len(y),len(t),1)\n",
    "\n",
    "Xm, Ym = np.meshgrid(x, y)\n",
    "spatial_grid = np.asarray([Xm, Ym]).T\n",
    "\n",
    "pde_lib = ps.PDELibrary(\n",
    "    derivative_order=2,\n",
    "    spatial_grid=spatial_grid\n",
    ")\n",
    "\n",
    " # u in shape (len(x),len(t),len(y))\n",
    "optimizer = ps.STLSQ(threshold=0.0)\n",
    "model = ps.SINDy(feature_library=pde_lib, optimizer=optimizer,feature_names=[\"u\"])\n",
    "model.fit(u_sindy,t=dt)\n",
    "model.print()\n",
    "para_find= model.coefficients()\n",
    "print(para_find)"
   ]
  },
  {
   "cell_type": "code",
   "execution_count": 9,
   "id": "4ce80c96",
   "metadata": {},
   "outputs": [],
   "source": [
    "noise_df_pdefind.loc[0,[\"standard deviation\",\"eps\",\"distance\"]]=[0.0,0.0,distance_para(para_find,real_para_pdefind)]\n",
    "noise_df_pdefind.at[0,\"parameters\"]=para_find"
   ]
  },
  {
   "cell_type": "markdown",
   "id": "64611784",
   "metadata": {},
   "source": [
    " #### Add noise and save results: PDE-FIND"
   ]
  },
  {
   "cell_type": "code",
   "execution_count": 10,
   "id": "c5a4b2cc",
   "metadata": {},
   "outputs": [
    {
     "name": "stdout",
     "output_type": "stream",
     "text": [
      "0\n",
      "1\n",
      "2\n",
      "3\n",
      "4\n",
      "5\n",
      "6\n",
      "7\n",
      "8\n",
      "9\n"
     ]
    }
   ],
   "source": [
    "#PDE Find 3 dim + noise \n",
    "u_rms = np.sqrt(np.mean(u*u))\n",
    "eps = 1e-10\n",
    "std_deviation = eps*u_rms\n",
    "\n",
    "for i in range (10):\n",
    "    print(i)\n",
    "    noise = np.random.normal(0,std_deviation,u.shape)\n",
    "    u_noise = u.copy()+noise\n",
    "    #Calculate parameters\n",
    "    model.fit(u_noise.reshape(len(x),len(y),len(t),1),t=dt)\n",
    "    para_pdefind = model.coefficients()\n",
    "    #Save std_dev, distance, eps in dataframe\n",
    "    noise_df_pdefind.loc[i+1,[\"standard deviation\",\"distance\",\"eps\"]] = [std_deviation,\n",
    "                                                                       distance_para(para_pdefind,real_para_pdefind)\n",
    "                                                                      ,eps]\n",
    "    list_para_pdefind.append(para_pdefind)\n",
    "    noise_df_pdefind.loc[i+1,\"parameters\"]=np.array(para_pdefind)\n",
    "    \n",
    "    #Update noise\n",
    "    eps *=10\n",
    "    std_deviation *=10"
   ]
  },
  {
   "cell_type": "markdown",
   "id": "5eac8364",
   "metadata": {
    "tags": []
   },
   "source": [
    "#### 3. Curve Fit"
   ]
  },
  {
   "cell_type": "code",
   "execution_count": 4,
   "id": "3207983f",
   "metadata": {},
   "outputs": [],
   "source": [
    "#Curve Fit 3 dim\n",
    "#Use less data points otherwise inf values encountered\n",
    "a=2\n",
    "T,X,Y,t,x,y = create_data_3d(T_start=0.01, T_end=5, L_x=5,L_y=5, N_t=200, N_x=150,N_y=150)\n",
    "u = 1.0/(4*np.pi*a*T) * np.exp(-(X*X+Y*Y)/(4*a*T) )"
   ]
  },
  {
   "cell_type": "code",
   "execution_count": 5,
   "id": "be026467",
   "metadata": {
    "scrolled": true
   },
   "outputs": [
    {
     "name": "stdout",
     "output_type": "stream",
     "text": [
      "CurveFit\n"
     ]
    },
    {
     "name": "stderr",
     "output_type": "stream",
     "text": [
      "/home/math/hauger/anaconda3/envs/ba/lib/python3.9/site-packages/torch/autograd/__init__.py:154: UserWarning: Casting complex values to real discards the imaginary part (Triggered internally at  /opt/conda/conda-bld/pytorch_1648016052946/work/aten/src/ATen/native/Copy.cpp:244.)\n",
      "  Variable._execution_engine.run_backward(\n"
     ]
    },
    {
     "name": "stdout",
     "output_type": "stream",
     "text": [
      "99 0.02507100214273856\n",
      "[Parameter containing:\n",
      "tensor([-0.4567], dtype=torch.float64, requires_grad=True), Parameter containing:\n",
      "tensor([0.0028, 0.0034], dtype=torch.float64, requires_grad=True), Parameter containing:\n",
      "tensor([0.8832, 0.1582, 1.3704], dtype=torch.float64, requires_grad=True)]\n",
      "199 0.020514603602455075\n",
      "[Parameter containing:\n",
      "tensor([-0.4322], dtype=torch.float64, requires_grad=True), Parameter containing:\n",
      "tensor([-2.0573e-05, -1.0384e-04], dtype=torch.float64, requires_grad=True), Parameter containing:\n",
      "tensor([1.1437, 0.0825, 1.5820], dtype=torch.float64, requires_grad=True)]\n",
      "299 0.01917448774752791\n",
      "[Parameter containing:\n",
      "tensor([-0.4246], dtype=torch.float64, requires_grad=True), Parameter containing:\n",
      "tensor([-3.5326e-07, -5.1130e-06], dtype=torch.float64, requires_grad=True), Parameter containing:\n",
      "tensor([1.3277, 0.0386, 1.6134], dtype=torch.float64, requires_grad=True)]\n",
      "399 0.01878934804309406\n",
      "[Parameter containing:\n",
      "tensor([-0.4227], dtype=torch.float64, requires_grad=True), Parameter containing:\n",
      "tensor([ 3.2421e-06, -1.8257e-06], dtype=torch.float64, requires_grad=True), Parameter containing:\n",
      "tensor([1.4357, 0.0180, 1.5960], dtype=torch.float64, requires_grad=True)]\n",
      "499 0.018709014958434772\n",
      "[Parameter containing:\n",
      "tensor([-0.4215], dtype=torch.float64, requires_grad=True), Parameter containing:\n",
      "tensor([5.1536e-07, 8.1593e-07], dtype=torch.float64, requires_grad=True), Parameter containing:\n",
      "tensor([1.4893, 0.0072, 1.5854], dtype=torch.float64, requires_grad=True)]\n"
     ]
    },
    {
     "data": {
      "image/png": "[encoded data removed]",
      "text/plain": [
       "<Figure size 640x480 with 1 Axes>"
      ]
     },
     "metadata": {},
     "output_type": "display_data"
    },
    {
     "name": "stdout",
     "output_type": "stream",
     "text": [
      "[Parameter containing:\n",
      "tensor([-0.4215], dtype=torch.float64, requires_grad=True), Parameter containing:\n",
      "tensor([3.6320e-07, 8.8518e-07], dtype=torch.float64, requires_grad=True), Parameter containing:\n",
      "tensor([1.4897, 0.0072, 1.5853], dtype=torch.float64, requires_grad=True)]\n"
     ]
    }
   ],
   "source": [
    "#dauert 25 min\n",
    "print(\"CurveFit\")\n",
    "para_curve=frequency_method_curvefit(u,T,[x,y],ax=[0,2],order=2,print_loss=True,epochs=500)\n",
    "print(para_curve)"
   ]
  },
  {
   "cell_type": "code",
   "execution_count": 6,
   "id": "24eed065",
   "metadata": {},
   "outputs": [],
   "source": [
    "para_curve = np.concatenate( revert_torchparameterlist_tolist(para_curve), axis=0 )\n",
    "noise_df_curve.loc[0,[\"standard deviation\",\"eps\",\"distance\"]]=[0.0,0.0,distance_para(para_curve,real_para_curve)]\n",
    "noise_df_curve.at[0,\"parameters\"]=para_curve"
   ]
  },
  {
   "cell_type": "markdown",
   "id": "c1e74d98",
   "metadata": {},
   "source": [
    "#### Add noise and save results: Curve Fit"
   ]
  },
  {
   "cell_type": "code",
   "execution_count": 7,
   "id": "dff514cd",
   "metadata": {
    "scrolled": true
   },
   "outputs": [
    {
     "name": "stdout",
     "output_type": "stream",
     "text": [
      "0\n",
      "1\n",
      "2\n",
      "Error: inf values in y_pred caused by torch.exp\n",
      "Epoch: 0\n",
      "3\n",
      "4\n",
      "5\n",
      "6\n",
      "7\n",
      "8\n",
      "9\n",
      "Error: inf values in y_pred caused by torch.exp\n",
      "Epoch: 0\n"
     ]
    }
   ],
   "source": [
    "# Curve Fit: will take a long time!!\n",
    "# computational a lot of work!!\n",
    "# 3 dim + noise \n",
    "u_rms = np.sqrt(np.mean(u*u))\n",
    "eps = 1e-10\n",
    "std_deviation = eps*u_rms\n",
    "\n",
    "for i in range (10):\n",
    "    print(i)\n",
    "    noise = np.random.normal(0,std_deviation,u.shape)\n",
    "    u_noise = u.copy()+noise\n",
    "    #Calculate parameters\n",
    "    para_curve=frequency_method_curvefit(u_noise,T,[x,y],ax=[0,2],order=2,epochs=500)\n",
    "    # If infinity values encounterd in curvefit para_curve = None\n",
    "    # Then skip saving and calculating distance\n",
    "    if para_curve != None:\n",
    "        para_curve = np.concatenate( revert_torchparameterlist_tolist(para_curve), axis=0 )\n",
    "        #Save std_dev, distance, eps in dataframe\n",
    "        noise_df_curve.loc[i+1,[\"standard deviation\",\"distance\",\"eps\"]] = [std_deviation,\n",
    "                                                                           distance_para(para_curve,real_para_curve)\n",
    "                                                                          ,eps]\n",
    "        #Save parameters\n",
    "    list_para_curve.append(para_curve)\n",
    "    noise_df_curve.at[i+1,\"parameters\"]=para_curve\n",
    "    \n",
    "    #Update noise\n",
    "    eps *=10\n",
    "    std_deviation *=10"
   ]
  },
  {
   "cell_type": "markdown",
   "id": "ad2cc29e",
   "metadata": {},
   "source": [
    "#### Plot Noise"
   ]
  },
  {
   "cell_type": "code",
   "execution_count": 19,
   "id": "1e69a8d9-518f-48e2-a5eb-2b5a471ddf3b",
   "metadata": {},
   "outputs": [
    {
     "data": {
      "text/plain": [
       "array([0, 1, 2, 4, 5, 6, 7, 8, 9])"
      ]
     },
     "execution_count": 19,
     "metadata": {},
     "output_type": "execute_result"
    }
   ],
   "source": [
    "#To read calculated data\n",
    "#noise_df_pdefind = pd.read_csv(filepath+\"/noise_pdefind_3d.csv\",sep=';')\n",
    "#noise_df_regr = pd.read_csv(filepath+\"/noise_regression_3d.csv\",sep=';')\n",
    "np.array(default_x_ticks)[mask_curve]"
   ]
  },
  {
   "cell_type": "code",
   "execution_count": 20,
   "id": "6171601c",
   "metadata": {
    "scrolled": true,
    "tags": []
   },
   "outputs": [
    {
     "data": {
      "image/png": "[encoded data removed]",
      "text/plain": [
       "<Figure size 550x350 with 1 Axes>"
      ]
     },
     "metadata": {},
     "output_type": "display_data"
    }
   ],
   "source": [
    "mask_curve = np.isfinite(noise_df_curve[\"distance\"].astype(np.double) )\n",
    "\n",
    "plt.figure(figsize=(5.5,3.5))\n",
    "mysize=8\n",
    "xticks=[\"$\\mathregular{0}$\"]\n",
    "for i in range(10):\n",
    "    xticks.append(\"$\\mathregular{10^{\"+str(-10+i)+\"}}$\")\n",
    "\n",
    "ax=plt.subplot(111)\n",
    "default_x_ticks = range(len(xticks))\n",
    "ax.plot(default_x_ticks,noise_df_pdefind[\"distance\"],'s-',color='tab:blue',label = 'PDE-FIND')\n",
    "ax.plot(default_x_ticks,noise_df_regr[\"distance\"],'s-',color='tab:orange',label='Frequency Regression')\n",
    "ax.plot(np.array(default_x_ticks)[mask_curve],noise_df_curve[\"distance\"][mask_curve],'s-',color='tab:green',label='Frequency Fit')\n",
    "ax.ticklabel_format(style='sci',scilimits=(-3,4),axis='both')\n",
    "plt.xlabel(\"noise\",size=mysize)\n",
    "plt.ylabel(\"distance\",size=mysize)\n",
    "plt.xticks(default_x_ticks, xticks,size=mysize)\n",
    "plt.legend(loc=2,prop={'size': 7})\n",
    "ax.spines.right.set_visible(False)\n",
    "ax.spines.top.set_visible(False)\n",
    "plt.show()"
   ]
  },
  {
   "cell_type": "markdown",
   "id": "d07ee835",
   "metadata": {
    "tags": []
   },
   "source": [
    "#### Print Parameters with Noise: "
   ]
  },
  {
   "cell_type": "markdown",
   "id": "bfaf517f",
   "metadata": {},
   "source": [
    "PDE-FIND"
   ]
  },
  {
   "cell_type": "code",
   "execution_count": 25,
   "id": "dc358bdc",
   "metadata": {},
   "outputs": [
    {
     "name": "stdout",
     "output_type": "stream",
     "text": [
      "Noise 0: [[0.        0.9691577 0.        0.        0.9691577]]\n",
      "Noise 1: [[ 8.45657358e-13  9.69157697e-01  4.36570205e-13 -1.67969714e-12\n",
      "   9.69157697e-01]]\n",
      "Noise 2: [[ 1.60809836e-11  9.69157697e-01 -4.45631150e-11  6.88458550e-12\n",
      "   9.69157697e-01]]\n",
      "Noise 3: [[-8.83701052e-11  9.69157697e-01 -1.19996037e-10  1.35694156e-10\n",
      "   9.69157697e-01]]\n",
      "Noise 4: [[-4.61793532e-09  9.69157697e-01  2.52036710e-09 -1.25059417e-09\n",
      "   9.69157696e-01]]\n",
      "Noise 5: [[2.06754031e-08 9.69157657e-01 2.89787734e-09 1.27848125e-09\n",
      "  9.69157657e-01]]\n",
      "Noise 6: [[4.02997444e-07 9.69154149e-01 1.77953568e-07 6.56430434e-08\n",
      "  9.69154143e-01]]\n",
      "Noise 7: [[-3.15886234e-06  9.68804529e-01  2.41977031e-06 -4.55147798e-07\n",
      "   9.68805025e-01]]\n",
      "Noise 8: [[-4.87612181e-05  9.35101160e-01  1.44219969e-05 -1.27938190e-05\n",
      "   9.35180100e-01]]\n",
      "Noise 9: [[ 3.84533144e-04  2.08822390e-01 -2.02731438e-04 -7.35704821e-05\n",
      "   2.08921295e-01]]\n",
      "Noise 10: [[ 5.19378988e-04  2.66717198e-03  1.38890584e-03 -1.85405025e-05\n",
      "   2.64990194e-03]]\n"
     ]
    }
   ],
   "source": [
    "for i in range(len(noise_df_pdefind[\"parameters\"] )):\n",
    "    print(\"Noise \"+str(i)+\": \"+str(noise_df_pdefind[\"parameters\"][i])) "
   ]
  },
  {
   "cell_type": "markdown",
   "id": "9f21c831",
   "metadata": {},
   "source": [
    "Linear Regression"
   ]
  },
  {
   "cell_type": "code",
   "execution_count": 26,
   "id": "020e9532",
   "metadata": {},
   "outputs": [
    {
     "name": "stdout",
     "output_type": "stream",
     "text": [
      "Noise 0: [-6.88498613e-02 -1.91648009e-07 -1.35880132e-08  1.54041156e+00\n",
      " -7.14954707e-09  1.54041159e+00]\n",
      "Noise 1: [-6.88497497e-02  5.75174544e-08  2.11082201e-07  1.54041155e+00\n",
      "  4.64849965e-09  1.54041155e+00]\n",
      "Noise 2: [-6.88503238e-02 -1.09677808e-06 -3.82157896e-07  1.54041133e+00\n",
      "  6.04368245e-07  1.54041131e+00]\n",
      "Noise 3: [-6.88547748e-02  4.93615239e-06  2.94736242e-07  1.54040628e+00\n",
      " -8.47841597e-07  1.54041085e+00]\n",
      "Noise 4: [-6.90265457e-02  1.70384271e-05 -1.11875009e-05  1.53998786e+00\n",
      " -2.19282722e-05  1.53999003e+00]\n",
      "Noise 5: [-7.77261137e-02 -2.80517503e-05 -1.60716448e-04  1.53023914e+00\n",
      "  8.44459146e-05  1.53025846e+00]\n",
      "Noise 6: [-1.55318141e-01 -4.37333012e-05  8.92785733e-05  1.24526608e+00\n",
      "  2.38938272e-05  1.24530366e+00]\n",
      "Noise 7: [-4.00723779e-01 -1.62063170e-04  3.23941198e-04  2.16687679e-01\n",
      "  4.24725474e-04  2.16495490e-01]\n",
      "Noise 8: [-4.02025990e-01  4.45734012e-04  4.16171560e-04  1.31019886e-03\n",
      " -1.69730318e-05  1.34536089e-03]\n",
      "Noise 9: [-5.82797331e-01  4.14949408e-05  7.18996397e-04  7.95524574e-06\n",
      "  1.04744194e-05  5.97378073e-06]\n",
      "Noise 10: [-1.05003192e+00 -1.50410223e-03 -1.68719940e-03 -1.30341288e-04\n",
      "  7.21128436e-06 -1.33756374e-04]\n"
     ]
    }
   ],
   "source": [
    "for i in range(len(noise_df_regr[\"parameters\"] )):\n",
    "    print(\"Noise \"+str(i)+\": \"+str(noise_df_regr[\"parameters\"][i])) "
   ]
  },
  {
   "cell_type": "markdown",
   "id": "00227688",
   "metadata": {},
   "source": [
    "Curve Fit"
   ]
  },
  {
   "cell_type": "code",
   "execution_count": 9,
   "id": "a0bbd05e",
   "metadata": {
    "scrolled": true
   },
   "outputs": [
    {
     "name": "stdout",
     "output_type": "stream",
     "text": [
      "Noise 0: [-2.52041074e-01  1.60545179e-07  3.04544195e-09  1.50747265e+00\n",
      "  6.03709371e-08  1.67265558e+00]\n",
      "Noise 1: [-4.23796709e-01  2.43862904e-07 -1.26663715e-06  1.49330458e+00\n",
      "  1.30730444e-07  1.54053052e+00]\n",
      "Noise 2: None\n",
      "Noise 3: [-4.20152265e-01 -2.72094694e-10  4.88648296e-09  1.57726551e+00\n",
      "  2.06141040e-01  1.50465923e+00]\n",
      "Noise 4: [-4.25088061e-01 -5.29150947e-08  1.09484020e-07  1.41292366e+00\n",
      "  9.80336225e-03  1.52244804e+00]\n",
      "Noise 5: [-4.20401945e-01 -1.90118442e-06 -6.75892412e-08  1.56820691e+00\n",
      "  2.94460632e-02  1.56067521e+00]\n",
      "Noise 6: [-4.15037781e-01  1.31401363e-05  1.67500450e-05  1.57471354e+00\n",
      "  1.06898215e-02  1.52523727e+00]\n",
      "Noise 7: [-4.45602501e-01 -3.00350050e-05  2.71999897e-05  8.92428723e-01\n",
      "  2.00052429e-01  1.43331672e+00]\n",
      "Noise 8: [-4.20309544e-01  1.27642809e-04  1.65279090e-04  1.56725119e+00\n",
      "  4.63750913e-04  1.56132141e+00]\n",
      "Noise 9: None\n"
     ]
    }
   ],
   "source": [
    "for i in range(len(list_para_curve)):\n",
    "    print(\"Noise \"+str(i)+\": \"+str(list_para_curve[i])) "
   ]
  },
  {
   "cell_type": "code",
   "execution_count": 10,
   "id": "e0f8511a",
   "metadata": {},
   "outputs": [],
   "source": [
    "#Save data in csv frame\n",
    "noise_df_pdefind.to_csv(filepath+\"/noise_pdefind_3d.csv\",sep=';')\n",
    "noise_df_regr.to_csv(filepath+\"/noise_regression_3d.csv\",sep=';')\n",
    "noise_df_curve.to_csv(filepath+\"/noise_curve_3d.csv\",sep=';')"
   ]
  },
  {
   "cell_type": "markdown",
   "id": "caeffe56",
   "metadata": {},
   "source": [
    "### Curve Fit: Perform several times\n",
    "Because Curve Fit depending on the random initialising of parameters, will calculate differernt results.\n",
    "We perform Curve Fitting 20 times and then calculate the mean and standard deviation of the computed parameters.\n",
    "We will perform this without noise and with noise $10^{-5}$"
   ]
  },
  {
   "cell_type": "code",
   "execution_count": 27,
   "id": "25030ff8",
   "metadata": {},
   "outputs": [],
   "source": [
    "#Regression 3 dim\n",
    "#Use less data points otherwise inf values encountered\n",
    "a=2\n",
    "T,X,Y,t,x,y = create_data_3d(T_start=0.01, T_end=5, L_x=5,L_y=5, N_t=200, N_x=150,N_y=150)\n",
    "u = 1.0/(4*np.pi*a*T) * np.exp(-(X*X+Y*Y)/(4*a*T) )\n",
    "\n",
    "number_para = 6\n",
    "iter_num =20\n",
    "#Create dataframe for saving data\n",
    "df_curve_iter = pd.DataFrame(index=range(iter_num),columns=[\"parameters\",\"parameters with noise\"])\n",
    "df_curve_iter_stdmean=pd.DataFrame(index=range(number_para),columns = [\"mean\",\"std\",\"mean noise\",\"std noise\"])\n",
    "\n",
    "def convert_list_toarray(size,liste):\n",
    "    array = np.zeros(size)\n",
    "    j=0\n",
    "    for el in liste:\n",
    "        for i in range(len(el)):\n",
    "            array[i+j]=el[i]\n",
    "        j+=1\n",
    "    return array"
   ]
  },
  {
   "cell_type": "code",
   "execution_count": 29,
   "id": "d2fd7e0e",
   "metadata": {},
   "outputs": [
    {
     "name": "stdout",
     "output_type": "stream",
     "text": [
      "Run 0\n",
      "Run 1\n",
      "Run 2\n",
      "Run 3\n",
      "Error: inf values in y_pred caused by torch.exp\n",
      "Epoch: 0\n",
      "Run 4\n",
      "Run 5\n",
      "Run 6\n",
      "Run 7\n",
      "Error: inf values in y_pred caused by torch.exp\n",
      "Epoch: 0\n",
      "Run 8\n",
      "Run 9\n",
      "Run 10\n",
      "Error: inf values in y_pred caused by torch.exp\n",
      "Epoch: 0\n",
      "Run 11\n",
      "Error: inf values in y_pred caused by torch.exp\n",
      "Epoch: 0\n",
      "Run 12\n",
      "Run 13\n",
      "Run 14\n",
      "Run 15\n",
      "Run 16\n",
      "Run 17\n",
      "Run 18\n",
      "Run 19\n"
     ]
    }
   ],
   "source": [
    "#without noise\n",
    "para_curve_fit_median = []\n",
    "for i in range(iter_num):\n",
    "    print(\"Run \"+str(i))\n",
    "    para_curve = frequency_method_curvefit(u,T,[x,y],ax=[0,2],order=2,epochs=500)\n",
    "    if para_curve!=None:\n",
    "        para_curve=revert_torchparameterlist_tolist(para_curve)\n",
    "        para_curve=convert_list_toarray(6,para_curve)\n",
    "    df_curve_iter.at[i,\"parameters\"]=para_curve\n",
    "    para_curve_fit_median.append(para_curve) "
   ]
  },
  {
   "cell_type": "code",
   "execution_count": 35,
   "id": "9392ba4e",
   "metadata": {},
   "outputs": [
    {
     "name": "stdout",
     "output_type": "stream",
     "text": [
      "Run 0\n",
      "Run 1\n",
      "Run 2\n",
      "Run 3\n",
      "Run 4\n",
      "Run 5\n",
      "Run 6\n",
      "Run 7\n",
      "Run 8\n",
      "Run 9\n",
      "Run 10\n",
      "Run 11\n",
      "Run 12\n",
      "Run 13\n",
      "Run 14\n",
      "Run 15\n",
      "Run 16\n",
      "Run 17\n",
      "Run 18\n",
      "Run 19\n"
     ]
    }
   ],
   "source": [
    "#with noise\n",
    "para_curve_fit_median_noise = []\n",
    "u_rms = np.sqrt(np.mean(u*u))\n",
    "eps = 1e-5\n",
    "std_deviation = eps*u_rms\n",
    "noise = np.random.normal(0,std_deviation,u.shape)\n",
    "u_noise = u.copy()+noise\n",
    "for i in range(iter_num):\n",
    "    print(\"Run \"+str(i))\n",
    "    para_curve = frequency_method_curvefit(u_noise,T,[x],ax=[0],order=2,print_loss=False,epochs=500)\n",
    "    if para_curve!=None:\n",
    "        para_curve=revert_torchparameterlist_tolist(para_curve)\n",
    "        para_curve=convert_list_toarray(6,para_curve)\n",
    "    df_curve_iter.at[i,\"parameters with noise\"]=para_curve\n",
    "    para_curve_fit_median_noise.append(para_curve) "
   ]
  },
  {
   "cell_type": "markdown",
   "id": "c8390e40",
   "metadata": {},
   "source": [
    "#### Plot Results"
   ]
  },
  {
   "cell_type": "code",
   "execution_count": 38,
   "id": "a55e1acc",
   "metadata": {},
   "outputs": [],
   "source": [
    "mean = np.zeros(number_para)\n",
    "std = np.zeros(number_para)\n",
    "mean_noise = mean.copy()\n",
    "std_noise = std.copy()\n",
    "\n",
    "for i in range(len(mean)):\n",
    "    #no noise\n",
    "    para=[]\n",
    "    para_noise=[]\n",
    "    for v in para_curve_fit_median:\n",
    "        if v is not None:\n",
    "            para.append(v[i])\n",
    "    para=np.array(para)\n",
    "    mean[i] = np.mean(para)\n",
    "    std[i] = np.std(para)\n",
    "    #with noise\n",
    "    for v in para_curve_fit_median_noise:\n",
    "        if v is not None:\n",
    "            para_noise.append(v[i])\n",
    "    para_noise=np.array(para_noise)\n",
    "    mean_noise[i] = np.mean(para_noise)\n",
    "    std_noise[i] = np.std(para_noise)"
   ]
  },
  {
   "cell_type": "code",
   "execution_count": 39,
   "id": "0e8a70a7",
   "metadata": {},
   "outputs": [],
   "source": [
    "#Save mean and standard deviation in dataframe\n",
    "df_curve_iter_stdmean[\"mean\"]=mean\n",
    "df_curve_iter_stdmean[\"std\"]=std\n",
    "df_curve_iter_stdmean[\"mean noise\"]=mean_noise\n",
    "df_curve_iter_stdmean[\"std noise\"]=std_noise"
   ]
  },
  {
   "cell_type": "code",
   "execution_count": 40,
   "id": "16c3e64e",
   "metadata": {},
   "outputs": [
    {
     "data": {
      "image/png": "[encoded data removed]",
      "text/plain": [
       "<Figure size 400x300 with 1 Axes>"
      ]
     },
     "metadata": {},
     "output_type": "display_data"
    }
   ],
   "source": [
    "fig, ax = plt.subplots(figsize=(4,3))\n",
    "x=np.arange(number_para)\n",
    "ax.bar(x, mean, yerr=std, align='center',color='tab:green', alpha=0.7, ecolor='black', capsize=10)\n",
    "ax.set_ylabel('Coefficients')\n",
    "ax.set_xticks(x)\n",
    "ax.set_xticklabels([\"$\\mathregular{c_0}$\",\n",
    "                    \"$\\mathregular{c_1}$\",\"$\\mathregular{c_2}$\",\n",
    "                    \"$\\mathregular{c_{11}}$\",\"$\\mathregular{c_{12}}$\",\"$\\mathregular{c_{22}}$\"])\n",
    "plt.tight_layout()\n",
    "plt.show()"
   ]
  },
  {
   "cell_type": "code",
   "execution_count": 41,
   "id": "6e7281c5",
   "metadata": {},
   "outputs": [
    {
     "data": {
      "image/png": "[encoded data removed]",
      "text/plain": [
       "<Figure size 400x300 with 1 Axes>"
      ]
     },
     "metadata": {},
     "output_type": "display_data"
    }
   ],
   "source": [
    "fig, ax = plt.subplots(figsize=(4,3))\n",
    "x=np.arange(number_para)\n",
    "ax.bar(x, mean_noise, yerr=std_noise, align='center',color='tab:green', alpha=0.7, ecolor='black', capsize=10)\n",
    "ax.set_ylabel('Coefficients')\n",
    "ax.set_xticks(x)\n",
    "ax.set_xticklabels([\"$\\mathregular{c_0}$\",\n",
    "                    \"$\\mathregular{c_1}$\",\"$\\mathregular{c_2}$\",\n",
    "                    \"$\\mathregular{c_{11}}$\",\"$\\mathregular{c_{12}}$\",\"$\\mathregular{c_{22}}$\"])\n",
    "plt.tight_layout()\n",
    "plt.show()"
   ]
  },
  {
   "cell_type": "markdown",
   "id": "5c737a62",
   "metadata": {},
   "source": [
    "#### Print Parameters without Noise: "
   ]
  },
  {
   "cell_type": "code",
   "execution_count": 42,
   "id": "025c0080",
   "metadata": {},
   "outputs": [
    {
     "data": {
      "text/plain": [
       "[array([-4.20177537e-01, -3.43915856e-10,  1.55102773e+00, -3.37308184e-04,\n",
       "         1.57544654e+00,  0.00000000e+00]),\n",
       " array([-4.20415996e-01,  1.37316993e-08,  1.55909585e+00, -3.36817741e-05,\n",
       "         1.56815950e+00,  0.00000000e+00]),\n",
       " array([-3.04634604e-01,  3.03061293e-04,  1.47551847e+00,  8.44894943e-09,\n",
       "         1.66304542e+00,  0.00000000e+00]),\n",
       " None,\n",
       " array([-3.93388854e-01, -1.78603273e-06,  1.09730746e+00,  3.89524868e-03,\n",
       "         1.65724208e+00,  0.00000000e+00]),\n",
       " array([-3.89529754e-01,  4.32035958e-08,  1.61440580e+00,  2.87298040e-05,\n",
       "         1.51270479e+00,  0.00000000e+00]),\n",
       " array([-4.23490379e-01, -7.13161924e-09,  1.59643518e+00, -3.96519054e-05,\n",
       "         1.42338153e+00,  0.00000000e+00]),\n",
       " None,\n",
       " array([-4.64578831e-01, -1.94437611e-09,  1.27277386e+00,  5.29034611e-01,\n",
       "         6.78640227e-01,  0.00000000e+00]),\n",
       " array([-4.50473823e-01, -2.46420685e-04,  1.41058958e+00,  1.27001843e-01,\n",
       "         8.17782556e-01,  0.00000000e+00]),\n",
       " None,\n",
       " None,\n",
       " array([-4.25437052e-01,  8.15205037e-08,  1.19607353e+00,  2.86056121e-02,\n",
       "         1.67497942e+00,  0.00000000e+00]),\n",
       " array([-3.54169875e-01,  1.29894570e-08,  1.56929573e+00,  1.99415818e-01,\n",
       "         1.33180366e+00,  0.00000000e+00]),\n",
       " array([-4.37563328e-01, -2.96788003e-09,  8.78591519e-01,  2.93207257e-01,\n",
       "         1.68927543e+00,  0.00000000e+00]),\n",
       " array([-4.23876591e-01, -2.52083742e-06,  1.37720165e+00, -1.59464038e-05,\n",
       "         1.60329399e+00,  0.00000000e+00]),\n",
       " array([-4.29499583e-01,  3.43481162e-07,  1.42958682e+00,  2.06111462e-06,\n",
       "         1.42729641e+00,  0.00000000e+00]),\n",
       " array([-4.20394467e-01,  3.29462427e-09,  1.55903581e+00,  7.90437602e-05,\n",
       "         1.56816921e+00,  0.00000000e+00]),\n",
       " array([-1.26511096e-01, -8.13723062e-07,  6.80905743e-01, -2.51099580e-03,\n",
       "         1.39840765e+00,  0.00000000e+00]),\n",
       " array([-4.18510045e-01,  3.48004694e-09,  1.58093822e+00,  1.10435583e-02,\n",
       "         1.55755562e+00,  0.00000000e+00])]"
      ]
     },
     "execution_count": 42,
     "metadata": {},
     "output_type": "execute_result"
    }
   ],
   "source": [
    "para_curve_fit_median"
   ]
  },
  {
   "cell_type": "markdown",
   "id": "f86922a5",
   "metadata": {},
   "source": [
    "#### Print Parameters with Noise: "
   ]
  },
  {
   "cell_type": "code",
   "execution_count": 43,
   "id": "59af4f16",
   "metadata": {},
   "outputs": [
    {
     "data": {
      "text/plain": [
       "[array([-1.23478760e+00, -7.60495339e-05,  2.43490926e+00,  0.00000000e+00,\n",
       "         0.00000000e+00,  0.00000000e+00]),\n",
       " array([-4.81516575e-01, -8.95216339e-05,  1.76645780e+00,  0.00000000e+00,\n",
       "         0.00000000e+00,  0.00000000e+00]),\n",
       " array([-8.70207463e-01, -8.66305239e-05,  1.55411064e+00,  0.00000000e+00,\n",
       "         0.00000000e+00,  0.00000000e+00]),\n",
       " array([-1.24516564e+00,  6.65643589e-05,  2.07952668e+00,  0.00000000e+00,\n",
       "         0.00000000e+00,  0.00000000e+00]),\n",
       " array([-1.18609327e+00,  2.99017535e-05,  2.09980322e+00,  0.00000000e+00,\n",
       "         0.00000000e+00,  0.00000000e+00]),\n",
       " array([-1.11461507e+00, -7.52308158e-05,  1.43833101e+00,  0.00000000e+00,\n",
       "         0.00000000e+00,  0.00000000e+00]),\n",
       " array([-1.08238236e+00,  5.61650549e-05,  2.08769227e+00,  0.00000000e+00,\n",
       "         0.00000000e+00,  0.00000000e+00]),\n",
       " array([-5.47134053e-01, -3.69775856e-05,  1.50747765e+00,  0.00000000e+00,\n",
       "         0.00000000e+00,  0.00000000e+00]),\n",
       " array([-6.22931396e-01, -6.07211318e-05,  1.39219118e+00,  0.00000000e+00,\n",
       "         0.00000000e+00,  0.00000000e+00]),\n",
       " array([-1.54223895e+00, -1.85761738e-05,  2.27769718e+00,  0.00000000e+00,\n",
       "         0.00000000e+00,  0.00000000e+00]),\n",
       " array([-1.33646055e+00, -8.83580455e-05,  2.13666047e+00,  0.00000000e+00,\n",
       "         0.00000000e+00,  0.00000000e+00]),\n",
       " array([-6.92540799e-01, -7.19602853e-05,  1.83685847e+00,  0.00000000e+00,\n",
       "         0.00000000e+00,  0.00000000e+00]),\n",
       " array([-8.61720925e-01,  1.29779833e-04,  2.25291107e+00,  0.00000000e+00,\n",
       "         0.00000000e+00,  0.00000000e+00]),\n",
       " array([-1.20345406e+00,  9.94515418e-06,  1.90770680e+00,  0.00000000e+00,\n",
       "         0.00000000e+00,  0.00000000e+00]),\n",
       " array([-1.63492030e-01, -8.81453360e-07,  1.23387682e+00,  0.00000000e+00,\n",
       "         0.00000000e+00,  0.00000000e+00]),\n",
       " array([-4.76096301e-01, -1.97469049e-04,  1.55041266e+00,  0.00000000e+00,\n",
       "         0.00000000e+00,  0.00000000e+00]),\n",
       " array([-4.77003804e-01, -1.01178919e-04,  1.57015152e+00,  0.00000000e+00,\n",
       "         0.00000000e+00,  0.00000000e+00]),\n",
       " array([-5.24390821e-01, -5.79635428e-05,  1.52394283e+00,  0.00000000e+00,\n",
       "         0.00000000e+00,  0.00000000e+00]),\n",
       " array([-9.18946545e-01, -1.45013144e-04,  2.29915257e+00,  0.00000000e+00,\n",
       "         0.00000000e+00,  0.00000000e+00]),\n",
       " array([-1.41253118e+00, -1.45308751e-05,  1.74381082e+00,  0.00000000e+00,\n",
       "         0.00000000e+00,  0.00000000e+00])]"
      ]
     },
     "execution_count": 43,
     "metadata": {},
     "output_type": "execute_result"
    }
   ],
   "source": [
    "para_curve_fit_median_noise"
   ]
  },
  {
   "cell_type": "code",
   "execution_count": 44,
   "id": "c03aef38",
   "metadata": {},
   "outputs": [],
   "source": [
    "#Save data in csv frame\n",
    "df_curve_iter.to_csv(filepath+\"/curve_iter_3d.csv\",sep=';')\n",
    "df_curve_iter_stdmean.to_csv(filepath+\"/curve_iter_meanstd_3d.csv\",sep=';')"
   ]
  },
  {
   "cell_type": "code",
   "execution_count": 46,
   "id": "1911d0c6-3ab4-4cf6-a3b8-d59993ef815b",
   "metadata": {},
   "outputs": [
    {
     "data": {
      "text/html": [
       "<div>\n",
       "<style scoped>\n",
       "    .dataframe tbody tr th:only-of-type {\n",
       "        vertical-align: middle;\n",
       "    }\n",
       "\n",
       "    .dataframe tbody tr th {\n",
       "        vertical-align: top;\n",
       "    }\n",
       "\n",
       "    .dataframe thead th {\n",
       "        text-align: right;\n",
       "    }\n",
       "</style>\n",
       "<table border=\"1\" class=\"dataframe\">\n",
       "  <thead>\n",
       "    <tr style=\"text-align: right;\">\n",
       "      <th></th>\n",
       "      <th>parameters</th>\n",
       "      <th>parameters with noise</th>\n",
       "    </tr>\n",
       "  </thead>\n",
       "  <tbody>\n",
       "    <tr>\n",
       "      <th>0</th>\n",
       "      <td>[-0.42017753709943234, -3.4391585580741744e-10...</td>\n",
       "      <td>[-1.234787599568063, -7.604953385875691e-05, 2...</td>\n",
       "    </tr>\n",
       "    <tr>\n",
       "      <th>1</th>\n",
       "      <td>[-0.42041599589247924, 1.3731699272430598e-08,...</td>\n",
       "      <td>[-0.48151657512035584, -8.952163394977208e-05,...</td>\n",
       "    </tr>\n",
       "    <tr>\n",
       "      <th>2</th>\n",
       "      <td>[-0.3046346036145397, 0.0003030612929329555, 1...</td>\n",
       "      <td>[-0.8702074628308638, -8.663052391618417e-05, ...</td>\n",
       "    </tr>\n",
       "    <tr>\n",
       "      <th>3</th>\n",
       "      <td>None</td>\n",
       "      <td>[-1.24516564001907, 6.656435894919229e-05, 2.0...</td>\n",
       "    </tr>\n",
       "    <tr>\n",
       "      <th>4</th>\n",
       "      <td>[-0.39338885425911546, -1.7860327303190463e-06...</td>\n",
       "      <td>[-1.186093268483717, 2.9901753476636156e-05, 2...</td>\n",
       "    </tr>\n",
       "    <tr>\n",
       "      <th>5</th>\n",
       "      <td>[-0.38952975391301614, 4.320359578967399e-08, ...</td>\n",
       "      <td>[-1.1146150692203418, -7.523081583770216e-05, ...</td>\n",
       "    </tr>\n",
       "    <tr>\n",
       "      <th>6</th>\n",
       "      <td>[-0.4234903791962409, -7.131619242533672e-09, ...</td>\n",
       "      <td>[-1.082382358424989, 5.616505488008069e-05, 2....</td>\n",
       "    </tr>\n",
       "    <tr>\n",
       "      <th>7</th>\n",
       "      <td>None</td>\n",
       "      <td>[-0.5471340526885204, -3.697758561387021e-05, ...</td>\n",
       "    </tr>\n",
       "    <tr>\n",
       "      <th>8</th>\n",
       "      <td>[-0.4645788312263283, -1.944376108754783e-09, ...</td>\n",
       "      <td>[-0.6229313957078879, -6.072113177879569e-05, ...</td>\n",
       "    </tr>\n",
       "    <tr>\n",
       "      <th>9</th>\n",
       "      <td>[-0.45047382320600393, -0.0002464206852704729,...</td>\n",
       "      <td>[-1.5422389469245423, -1.857617382146727e-05, ...</td>\n",
       "    </tr>\n",
       "    <tr>\n",
       "      <th>10</th>\n",
       "      <td>None</td>\n",
       "      <td>[-1.3364605526920827, -8.835804547373717e-05, ...</td>\n",
       "    </tr>\n",
       "    <tr>\n",
       "      <th>11</th>\n",
       "      <td>None</td>\n",
       "      <td>[-0.6925407991594689, -7.196028525364076e-05, ...</td>\n",
       "    </tr>\n",
       "    <tr>\n",
       "      <th>12</th>\n",
       "      <td>[-0.4254370524840705, 8.152050372567138e-08, 1...</td>\n",
       "      <td>[-0.861720924798088, 0.00012977983255929503, 2...</td>\n",
       "    </tr>\n",
       "    <tr>\n",
       "      <th>13</th>\n",
       "      <td>[-0.35416987493217794, 1.298945698916068e-08, ...</td>\n",
       "      <td>[-1.2034540641937215, 9.945154176713626e-06, 1...</td>\n",
       "    </tr>\n",
       "    <tr>\n",
       "      <th>14</th>\n",
       "      <td>[-0.437563327856612, -2.96788003285529e-09, 0....</td>\n",
       "      <td>[-0.16349202994326847, -8.814533598124198e-07,...</td>\n",
       "    </tr>\n",
       "    <tr>\n",
       "      <th>15</th>\n",
       "      <td>[-0.42387659094730773, -2.5208374245137745e-06...</td>\n",
       "      <td>[-0.47609630109346623, -0.0001974690487938886,...</td>\n",
       "    </tr>\n",
       "    <tr>\n",
       "      <th>16</th>\n",
       "      <td>[-0.4294995833838831, 3.434811615678021e-07, 1...</td>\n",
       "      <td>[-0.47700380402104725, -0.00010117891860304744...</td>\n",
       "    </tr>\n",
       "    <tr>\n",
       "      <th>17</th>\n",
       "      <td>[-0.42039446666393876, 3.29462426968819e-09, 1...</td>\n",
       "      <td>[-0.5243908206901885, -5.7963542816646585e-05,...</td>\n",
       "    </tr>\n",
       "    <tr>\n",
       "      <th>18</th>\n",
       "      <td>[-0.12651109585241727, -8.137230622818296e-07,...</td>\n",
       "      <td>[-0.9189465445234933, -0.0001450131439407655, ...</td>\n",
       "    </tr>\n",
       "    <tr>\n",
       "      <th>19</th>\n",
       "      <td>[-0.41851004471410114, 3.480046939430887e-09, ...</td>\n",
       "      <td>[-1.4125311821761979, -1.4530875114990742e-05,...</td>\n",
       "    </tr>\n",
       "  </tbody>\n",
       "</table>\n",
       "</div>"
      ],
      "text/plain": [
       "                                           parameters  \\\n",
       "0   [-0.42017753709943234, -3.4391585580741744e-10...   \n",
       "1   [-0.42041599589247924, 1.3731699272430598e-08,...   \n",
       "2   [-0.3046346036145397, 0.0003030612929329555, 1...   \n",
       "3                                                None   \n",
       "4   [-0.39338885425911546, -1.7860327303190463e-06...   \n",
       "5   [-0.38952975391301614, 4.320359578967399e-08, ...   \n",
       "6   [-0.4234903791962409, -7.131619242533672e-09, ...   \n",
       "7                                                None   \n",
       "8   [-0.4645788312263283, -1.944376108754783e-09, ...   \n",
       "9   [-0.45047382320600393, -0.0002464206852704729,...   \n",
       "10                                               None   \n",
       "11                                               None   \n",
       "12  [-0.4254370524840705, 8.152050372567138e-08, 1...   \n",
       "13  [-0.35416987493217794, 1.298945698916068e-08, ...   \n",
       "14  [-0.437563327856612, -2.96788003285529e-09, 0....   \n",
       "15  [-0.42387659094730773, -2.5208374245137745e-06...   \n",
       "16  [-0.4294995833838831, 3.434811615678021e-07, 1...   \n",
       "17  [-0.42039446666393876, 3.29462426968819e-09, 1...   \n",
       "18  [-0.12651109585241727, -8.137230622818296e-07,...   \n",
       "19  [-0.41851004471410114, 3.480046939430887e-09, ...   \n",
       "\n",
       "                                parameters with noise  \n",
       "0   [-1.234787599568063, -7.604953385875691e-05, 2...  \n",
       "1   [-0.48151657512035584, -8.952163394977208e-05,...  \n",
       "2   [-0.8702074628308638, -8.663052391618417e-05, ...  \n",
       "3   [-1.24516564001907, 6.656435894919229e-05, 2.0...  \n",
       "4   [-1.186093268483717, 2.9901753476636156e-05, 2...  \n",
       "5   [-1.1146150692203418, -7.523081583770216e-05, ...  \n",
       "6   [-1.082382358424989, 5.616505488008069e-05, 2....  \n",
       "7   [-0.5471340526885204, -3.697758561387021e-05, ...  \n",
       "8   [-0.6229313957078879, -6.072113177879569e-05, ...  \n",
       "9   [-1.5422389469245423, -1.857617382146727e-05, ...  \n",
       "10  [-1.3364605526920827, -8.835804547373717e-05, ...  \n",
       "11  [-0.6925407991594689, -7.196028525364076e-05, ...  \n",
       "12  [-0.861720924798088, 0.00012977983255929503, 2...  \n",
       "13  [-1.2034540641937215, 9.945154176713626e-06, 1...  \n",
       "14  [-0.16349202994326847, -8.814533598124198e-07,...  \n",
       "15  [-0.47609630109346623, -0.0001974690487938886,...  \n",
       "16  [-0.47700380402104725, -0.00010117891860304744...  \n",
       "17  [-0.5243908206901885, -5.7963542816646585e-05,...  \n",
       "18  [-0.9189465445234933, -0.0001450131439407655, ...  \n",
       "19  [-1.4125311821761979, -1.4530875114990742e-05,...  "
      ]
     },
     "execution_count": 46,
     "metadata": {},
     "output_type": "execute_result"
    }
   ],
   "source": [
    "df_curve_iter"
   ]
  },
  {
   "cell_type": "code",
   "execution_count": 47,
   "id": "f9789a14-dc0f-4ecc-b321-76bc3f08d87d",
   "metadata": {},
   "outputs": [
    {
     "data": {
      "text/html": [
       "<div>\n",
       "<style scoped>\n",
       "    .dataframe tbody tr th:only-of-type {\n",
       "        vertical-align: middle;\n",
       "    }\n",
       "\n",
       "    .dataframe tbody tr th {\n",
       "        vertical-align: top;\n",
       "    }\n",
       "\n",
       "    .dataframe thead th {\n",
       "        text-align: right;\n",
       "    }\n",
       "</style>\n",
       "<table border=\"1\" class=\"dataframe\">\n",
       "  <thead>\n",
       "    <tr style=\"text-align: right;\">\n",
       "      <th></th>\n",
       "      <th>mean</th>\n",
       "      <th>std</th>\n",
       "      <th>mean noise</th>\n",
       "      <th>std noise</th>\n",
       "    </tr>\n",
       "  </thead>\n",
       "  <tbody>\n",
       "    <tr>\n",
       "      <th>0</th>\n",
       "      <td>-0.393916</td>\n",
       "      <td>0.078224</td>\n",
       "      <td>-0.899685</td>\n",
       "      <td>0.375129</td>\n",
       "    </tr>\n",
       "    <tr>\n",
       "      <th>1</th>\n",
       "      <td>0.000003</td>\n",
       "      <td>0.000098</td>\n",
       "      <td>-0.000041</td>\n",
       "      <td>0.000074</td>\n",
       "    </tr>\n",
       "    <tr>\n",
       "      <th>2</th>\n",
       "      <td>1.365549</td>\n",
       "      <td>0.267622</td>\n",
       "      <td>1.834684</td>\n",
       "      <td>0.346256</td>\n",
       "    </tr>\n",
       "    <tr>\n",
       "      <th>3</th>\n",
       "      <td>0.074336</td>\n",
       "      <td>0.144545</td>\n",
       "      <td>0.000000</td>\n",
       "      <td>0.000000</td>\n",
       "    </tr>\n",
       "    <tr>\n",
       "      <th>4</th>\n",
       "      <td>1.446699</td>\n",
       "      <td>0.284082</td>\n",
       "      <td>0.000000</td>\n",
       "      <td>0.000000</td>\n",
       "    </tr>\n",
       "    <tr>\n",
       "      <th>5</th>\n",
       "      <td>0.000000</td>\n",
       "      <td>0.000000</td>\n",
       "      <td>0.000000</td>\n",
       "      <td>0.000000</td>\n",
       "    </tr>\n",
       "  </tbody>\n",
       "</table>\n",
       "</div>"
      ],
      "text/plain": [
       "       mean       std  mean noise  std noise\n",
       "0 -0.393916  0.078224   -0.899685   0.375129\n",
       "1  0.000003  0.000098   -0.000041   0.000074\n",
       "2  1.365549  0.267622    1.834684   0.346256\n",
       "3  0.074336  0.144545    0.000000   0.000000\n",
       "4  1.446699  0.284082    0.000000   0.000000\n",
       "5  0.000000  0.000000    0.000000   0.000000"
      ]
     },
     "execution_count": 47,
     "metadata": {},
     "output_type": "execute_result"
    }
   ],
   "source": [
    "df_curve_iter_stdmean"
   ]
  },
  {
   "cell_type": "code",
   "execution_count": null,
   "id": "1d0bf4e0-97ee-4c1c-a40d-136e42644ee3",
   "metadata": {},
   "outputs": [],
   "source": []
  }
 ],
 "metadata": {
  "kernelspec": {
   "display_name": "Python 3 (ipykernel)",
   "language": "python",
   "name": "python3"
  },
  "language_info": {
   "codemirror_mode": {
    "name": "ipython",
    "version": 3
   },
   "file_extension": ".py",
   "mimetype": "text/x-python",
   "name": "python",
   "nbconvert_exporter": "python",
   "pygments_lexer": "ipython3",
   "version": "3.7.13"
  }
 },
 "nbformat": 4,
 "nbformat_minor": 5
}
