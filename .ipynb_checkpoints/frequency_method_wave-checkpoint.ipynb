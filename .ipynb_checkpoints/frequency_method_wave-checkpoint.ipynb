{
 "cells": [
  {
   "cell_type": "markdown",
   "id": "e0fc3a67",
   "metadata": {},
   "source": [
    "# Test Frequency Methods on wave equation $u_{tt} = c^2 \\triangle u$\n",
    "Compare Frequency Regression, Frequency Fit and PDE-FIND on the transport equaton."
   ]
  },
  {
   "cell_type": "code",
   "execution_count": 1,
   "id": "1e1b3468",
   "metadata": {},
   "outputs": [],
   "source": [
    "# Packages\n",
    "import numpy as np\n",
    "import torch\n",
    "import math\n",
    "import matplotlib.pyplot as plt\n",
    "import scipy.linalg\n",
    "import statsmodels.api as sm\n",
    "import itertools\n",
    "import pysindy as ps\n",
    "import pandas as pd\n",
    "\n",
    "from scipy.optimize import minimize\n",
    "from scipy.fft import fftn, ifftn, fftfreq,fft\n",
    "\n",
    "from ipynb.fs.full.frequency_method_functions import *"
   ]
  },
  {
   "cell_type": "code",
   "execution_count": 2,
   "id": "14aac2c8",
   "metadata": {
    "scrolled": true
   },
   "outputs": [],
   "source": [
    "#L_2 norm for parameter lists\n",
    "def distance_para(lista,listb):\n",
    "    return np.sqrt( np.square(np.array(lista)-np.array(listb)).sum() ) \n",
    "\n",
    "#Revert torch parameter list back to list, so distance_para calc is possible\n",
    "def revert_torchparameterlist_tolist(parameter_list):\n",
    "    for i in range(len(parameter_list)):\n",
    "        parameter_list[i]=parameter_list[i].detach().numpy()\n",
    "    parameter_list=parameter_list\n",
    "    return parameter_list"
   ]
  },
  {
   "cell_type": "markdown",
   "id": "82c4532c",
   "metadata": {},
   "source": [
    "### Wave equation: $u_{tt} = c^2 \\triangle u$. \n",
    "d'Alembert's formula for $u(x,0) = f(x), u_t(x,0) = g(x)$ and $x \\in \\mathbb{R}$\n",
    "$$ u(x,t) = \\frac{f(x-ct)+f(x+ct)}{2} + \\frac{1}{2c} \\int_{x-ct}^{x+ct} g(s) ds $$"
   ]
  },
  {
   "cell_type": "code",
   "execution_count": 3,
   "id": "e58132fd",
   "metadata": {},
   "outputs": [],
   "source": [
    "#Create dataframes to save data\n",
    "c = 3\n",
    "#filepath where you want to save the files\n",
    "filepath=r\"/home/math/hauger/Dokumente/Bachelor-Arbeit/results_data/wave_equation\"\n",
    "noise_df_pdefind = pd.DataFrame(index=range(0,11),columns=[\"parameters\",\"standard deviation\",\"distance\",\"eps\"])\n",
    "noise_df_regr = pd.DataFrame(index=range(0,11),columns=[\"parameters\",\"standard deviation\",\"distance\",\"eps\"])\n",
    "noise_df_curve = pd.DataFrame(index=range(0,11),columns=[\"parameters\",\"standard deviation\",\"distance\",\"eps\"])\n",
    "\n",
    "real_para_pdefind = [[0,c*c]]\n",
    "real_para_regr = [0,0,c*c]\n",
    "real_para_curve = [0,0,c*c]\n",
    "\n",
    "list_para_pdefind =[]\n",
    "list_para_regr=[]\n",
    "list_para_curve =[]"
   ]
  },
  {
   "cell_type": "code",
   "execution_count": 4,
   "id": "71e48369",
   "metadata": {},
   "outputs": [
    {
     "name": "stdout",
     "output_type": "stream",
     "text": [
      "Real Coefficients\n",
      "u,u_x,u_xx\n",
      "(0, 0, 9)\n",
      "Regression\n",
      "[-2.60396460e-02 -5.42277407e-06  9.01075217e+00]\n",
      "PDE-Find\n",
      "(u)' = 9.000 u_11\n"
     ]
    }
   ],
   "source": [
    "T,X,t,x= create_data_2d(0,2,5,100,100)\n",
    "u = np.sin(X-c*T)+np.sin(X+c*T) + 4*X*T\n",
    "\n",
    "para_regr = frequency_method_regr(u,[x,t],order=2,time_deriv=2)\n",
    "print(\"Real Coefficients\")\n",
    "print(\"u,u_x,u_xx\")\n",
    "print((0,0,c*c))\n",
    "print(\"Regression\")\n",
    "print(para_regr)\n",
    "print(\"PDE-Find\")\n",
    "para_find =pde_find_sec_timederiv(u,t,x,order=2)"
   ]
  },
  {
   "cell_type": "code",
   "execution_count": 5,
   "id": "7b054368",
   "metadata": {},
   "outputs": [
    {
     "name": "stdout",
     "output_type": "stream",
     "text": [
      "CurveFit\n"
     ]
    },
    {
     "name": "stderr",
     "output_type": "stream",
     "text": [
      "/home/math/hauger/anaconda3/envs/ba/lib/python3.9/site-packages/torch/autograd/__init__.py:154: UserWarning: Casting complex values to real discards the imaginary part (Triggered internally at  /opt/conda/conda-bld/pytorch_1648016052946/work/aten/src/ATen/native/Copy.cpp:244.)\n",
      "  Variable._execution_engine.run_backward(\n"
     ]
    },
    {
     "name": "stdout",
     "output_type": "stream",
     "text": [
      "999 27.13729274894402\n",
      "[Parameter containing:\n",
      "tensor([2.4175], dtype=torch.float64, requires_grad=True), Parameter containing:\n",
      "tensor([0.7054], dtype=torch.float64, requires_grad=True), Parameter containing:\n",
      "tensor([0.1812], dtype=torch.float64, requires_grad=True)]\n",
      "1999 11.558407871094241\n",
      "[Parameter containing:\n",
      "tensor([1.0325], dtype=torch.float64, requires_grad=True), Parameter containing:\n",
      "tensor([0.1981], dtype=torch.float64, requires_grad=True), Parameter containing:\n",
      "tensor([-0.0034], dtype=torch.float64, requires_grad=True)]\n",
      "2999 11.869682694132853\n",
      "[Parameter containing:\n",
      "tensor([0.8620], dtype=torch.float64, requires_grad=True), Parameter containing:\n",
      "tensor([0.2133], dtype=torch.float64, requires_grad=True), Parameter containing:\n",
      "tensor([-0.0049], dtype=torch.float64, requires_grad=True)]\n",
      "3999 2.0559946606473227\n",
      "[Parameter containing:\n",
      "tensor([0.4769], dtype=torch.float64, requires_grad=True), Parameter containing:\n",
      "tensor([1.9829e-11], dtype=torch.float64, requires_grad=True), Parameter containing:\n",
      "tensor([0.0002], dtype=torch.float64, requires_grad=True)]\n",
      "4999 34.44232239151041\n",
      "[Parameter containing:\n",
      "tensor([0.7232], dtype=torch.float64, requires_grad=True), Parameter containing:\n",
      "tensor([-0.7013], dtype=torch.float64, requires_grad=True), Parameter containing:\n",
      "tensor([0.3043], dtype=torch.float64, requires_grad=True)]\n"
     ]
    },
    {
     "data": {
      "image/png": "[encoded data removed]",
      "text/plain": [
       "<Figure size 640x480 with 1 Axes>"
      ]
     },
     "metadata": {},
     "output_type": "display_data"
    },
    {
     "name": "stdout",
     "output_type": "stream",
     "text": [
      "[Parameter containing:\n",
      "tensor([0.7236], dtype=torch.float64, requires_grad=True), Parameter containing:\n",
      "tensor([-0.7016], dtype=torch.float64, requires_grad=True), Parameter containing:\n",
      "tensor([0.3043], dtype=torch.float64, requires_grad=True)]\n"
     ]
    }
   ],
   "source": [
    "print(\"Curve Fit\")\n",
    "para_curve = frequency_method_curvefit(u,T,[x],ax=[0],order=2,print_loss=True,epochs=5000,time_deriv=2)\n",
    "print(para_curve)"
   ]
  },
  {
   "cell_type": "code",
   "execution_count": 6,
   "id": "5faac77f",
   "metadata": {},
   "outputs": [],
   "source": [
    "#Save Data\n",
    "noise_df_pdefind.loc[0,[\"standard deviation\",\"eps\",\"distance\"]]=[0.0,0.0,distance_para(para_find,real_para_pdefind)]\n",
    "noise_df_pdefind.at[0,\"parameters\"]=para_find\n",
    "\n",
    "noise_df_regr.loc[0,[\"standard deviation\",\"eps\",\"distance\"]]=[0.0,0.0,distance_para(para_regr,real_para_regr)]\n",
    "noise_df_regr.at[0,\"parameters\"]=para_regr\n",
    "\n",
    "para_curve=np.array(revert_torchparameterlist_tolist(para_curve)).reshape(3)\n",
    "noise_df_curve.loc[0,[\"standard deviation\",\"eps\",\"distance\"]]=[0.0,0.0,distance_para(para_curve,real_para_curve)]\n",
    "noise_df_curve.at[0,\"parameters\"]=para_curve\n",
    "\n",
    "list_para_pdefind.append(para_find)\n",
    "list_para_regr.append(para_regr)\n",
    "list_para_curve.append(para_curve)"
   ]
  },
  {
   "cell_type": "markdown",
   "id": "092df043",
   "metadata": {},
   "source": [
    "#### Add noise and save results"
   ]
  },
  {
   "cell_type": "markdown",
   "id": "0933bdfd",
   "metadata": {},
   "source": [
    "#### 1. Calculate results for Frequency Regression and PDE-FIND with noise"
   ]
  },
  {
   "cell_type": "code",
   "execution_count": 7,
   "id": "0ecd4e23",
   "metadata": {},
   "outputs": [],
   "source": [
    "u_rms = np.sqrt(np.mean(u*u))\n",
    "eps = 1e-10\n",
    "std_deviation = eps*u_rms\n",
    "\n",
    "for i in range (10):\n",
    "    noise = np.random.normal(0,std_deviation,u.shape)\n",
    "    u_noise = u.copy()+noise\n",
    "    #Calculate parameters\n",
    "    para_pdefind = pde_find_sec_timederiv(u_noise,t,x,order=2,print_model=False)\n",
    "    para_regr = frequency_method_regr(u_noise,[x,t],order=2,time_deriv=2)\n",
    "    #Save std_dev, distance, eps in dataframe\n",
    "    noise_df_pdefind.loc[i+1,[\"standard deviation\",\"distance\",\"eps\"]] = [std_deviation,\n",
    "                                                                       distance_para(para_pdefind,real_para_pdefind)\n",
    "                                                                      ,eps]\n",
    "    noise_df_regr.loc[i+1,[\"standard deviation\",\"distance\",\"eps\"]] = [std_deviation,\n",
    "                                                                       distance_para(para_regr,real_para_regr)\n",
    "                                                                      ,eps]\n",
    "    #Save parameters\n",
    "    list_para_pdefind.append(para_pdefind)\n",
    "    list_para_regr.append(para_regr)\n",
    "    noise_df_pdefind.at[i+1,\"parameters\"]=para_pdefind\n",
    "    noise_df_regr.at[i+1,\"parameters\"]=para_regr\n",
    "    \n",
    "    #Update noise\n",
    "    eps *=10\n",
    "    std_deviation *=10"
   ]
  },
  {
   "cell_type": "markdown",
   "id": "7841546f",
   "metadata": {},
   "source": [
    "#### 2. Calculate results for Frequency Fit with noise"
   ]
  },
  {
   "cell_type": "code",
   "execution_count": 8,
   "id": "c8e55cc6",
   "metadata": {},
   "outputs": [],
   "source": [
    "u_rms = np.sqrt(np.mean(u*u))\n",
    "eps = 1e-10\n",
    "std_deviation = eps*u_rms\n",
    "\n",
    "for i in range (10):\n",
    "    noise = np.random.normal(0,std_deviation,u.shape)\n",
    "    u_noise = u.copy()+noise\n",
    "    #Calculate parameters\n",
    "    para_curve=frequency_method_curvefit(u_noise,T,[x],ax=[0],order=2,print_loss=False,epochs=500)\n",
    "    para_curve=np.array(revert_torchparameterlist_tolist(para_curve)).reshape(3)\n",
    "    #Save std_dev, distance, eps in dataframe\n",
    "    noise_df_curve.loc[i+1,[\"standard deviation\",\"distance\",\"eps\"]] = [std_deviation,\n",
    "                                                                       distance_para(para_curve,real_para_curve)\n",
    "                                                                      ,eps]\n",
    "    #Save parameters\n",
    "    list_para_curve.append(para_curve)\n",
    "    noise_df_curve.at[i+1,\"parameters\"]=para_curve\n",
    "    \n",
    "    #Update noise\n",
    "    eps *=10\n",
    "    std_deviation *=10"
   ]
  },
  {
   "cell_type": "markdown",
   "id": "18c2513c",
   "metadata": {},
   "source": [
    "#### Plot noise"
   ]
  },
  {
   "cell_type": "code",
   "execution_count": 9,
   "id": "c31188f6",
   "metadata": {},
   "outputs": [
    {
     "data": {
      "image/png": "[encoded data removed]",
      "text/plain": [
       "<Figure size 550x350 with 1 Axes>"
      ]
     },
     "metadata": {},
     "output_type": "display_data"
    }
   ],
   "source": [
    "plt.figure(figsize=(5.5,3.5))\n",
    "mysize=8\n",
    "xticks=[\"$\\mathregular{0}$\"]\n",
    "for i in range(10):\n",
    "    xticks.append(\"$\\mathregular{10^{\"+str(-10+i)+\"}}$\")\n",
    "\n",
    "ax=plt.subplot(111)\n",
    "default_x_ticks = range(len(xticks))\n",
    "ax.plot(default_x_ticks,noise_df_pdefind[\"distance\"],'s-',color='tab:blue',label = 'PDE-FIND')\n",
    "ax.plot(default_x_ticks,noise_df_regr[\"distance\"],'s-',color='tab:orange',label='Frequency Regression')\n",
    "ax.plot(default_x_ticks,noise_df_curve[\"distance\"],'s-',color='tab:green',label='Frequency Fit')\n",
    "ax.ticklabel_format(style='sci',scilimits=(-3,4),axis='both')\n",
    "plt.xlabel(\"noise\",size=mysize)\n",
    "plt.ylabel(\"distance\",size=mysize)\n",
    "plt.xticks(default_x_ticks, xticks,size=mysize)\n",
    "plt.legend(loc=2,prop={'size': 7})\n",
    "ax.spines.right.set_visible(False)\n",
    "ax.spines.top.set_visible(False)\n",
    "plt.show()"
   ]
  },
  {
   "cell_type": "markdown",
   "id": "ab2174bb",
   "metadata": {},
   "source": [
    "#### Print parameters with noise: "
   ]
  },
  {
   "cell_type": "markdown",
   "id": "4cd2e2dc",
   "metadata": {},
   "source": [
    "PDE-FIND"
   ]
  },
  {
   "cell_type": "code",
   "execution_count": 10,
   "id": "362dba0b",
   "metadata": {
    "scrolled": true
   },
   "outputs": [
    {
     "name": "stdout",
     "output_type": "stream",
     "text": [
      "Noise 0: [[-5.35215669e-15  9.00016472e+00]]\n",
      "Noise 1: [[-1.19670793e-09  9.00016475e+00]]\n",
      "Noise 2: [[-3.69527297e-08  9.00016489e+00]]\n",
      "Noise 3: [[-5.27650166e-07  9.00016496e+00]]\n",
      "Noise 4: [[-3.02534092e-07  9.00010564e+00]]\n",
      "Noise 5: [[7.65421221e-05 9.00005202e+00]]\n",
      "Noise 6: [[-1.18630070e-03  8.97619828e+00]]\n",
      "Noise 7: [[-0.00943138  7.39459523]]\n",
      "Noise 8: [[0.01718179 3.42928795]]\n",
      "Noise 9: [[0.41308051 3.4761954 ]]\n",
      "Noise 10: [[-1.35939665  3.49030953]]\n"
     ]
    }
   ],
   "source": [
    "for i in range(len(list_para_pdefind)):\n",
    "    print(\"Noise \"+str(i)+\": \"+str(list_para_pdefind[i])) "
   ]
  },
  {
   "cell_type": "markdown",
   "id": "35836a16",
   "metadata": {},
   "source": [
    "Frequency Regression"
   ]
  },
  {
   "cell_type": "code",
   "execution_count": 11,
   "id": "03d4030f",
   "metadata": {},
   "outputs": [
    {
     "name": "stdout",
     "output_type": "stream",
     "text": [
      "Noise 0: [-2.60396460e-02 -5.42277407e-06  9.01075217e+00]\n",
      "Noise 1: [-2.60402592e-02 -2.59934353e-06  9.01079455e+00]\n",
      "Noise 2: [-2.60394083e-02  6.86287634e-06  9.01077008e+00]\n",
      "Noise 3: [-2.60239495e-02  5.47421617e-05  9.01060783e+00]\n",
      "Noise 4: [-2.64684788e-02 -8.30346703e-05  9.01424325e+00]\n",
      "Noise 5: [-2.37515629e-02  5.38506363e-04  9.03214208e+00]\n",
      "Noise 6: [-3.66377072e-02 -4.40210054e-04  9.02846638e+00]\n",
      "Noise 7: [-0.07415747  0.01268871  6.27190842]\n",
      "Noise 8: [-0.19088608 -0.08739329  3.37143474]\n",
      "Noise 9: [-0.18286611  1.07321635  3.43498491]\n",
      "Noise 10: [-26.25527467  -2.06762196   3.42366421]\n"
     ]
    }
   ],
   "source": [
    "for i in range(len(list_para_regr)):\n",
    "    print(\"Noise \"+str(i)+\": \"+str(list_para_regr[i])) "
   ]
  },
  {
   "cell_type": "markdown",
   "id": "dac107a5",
   "metadata": {},
   "source": [
    "Frequency Fit"
   ]
  },
  {
   "cell_type": "code",
   "execution_count": 12,
   "id": "bfaf9424",
   "metadata": {
    "scrolled": true
   },
   "outputs": [
    {
     "name": "stdout",
     "output_type": "stream",
     "text": [
      "Noise 0: [ 0.72359478 -0.70162427  0.30433121]\n",
      "Noise 1: [ 9.70581541e-01 -6.43153297e-11  6.15931116e-02]\n",
      "Noise 2: [0.92960961 0.10382592 0.0702724 ]\n",
      "Noise 3: [ 9.40657110e-01 -4.76105354e-10  7.25527839e-02]\n",
      "Noise 4: [1.05564462e+00 1.37522241e-08 6.53965082e-02]\n",
      "Noise 5: [ 1.01290853e+00 -1.76565547e-07  7.62057393e-02]\n",
      "Noise 6: [9.38602267e-01 1.22774753e-06 8.53898020e-02]\n",
      "Noise 7: [1.00201267e+00 1.70093688e-05 9.56151573e-02]\n",
      "Noise 8: [9.65983428e-01 7.68807618e-05 7.82792616e-02]\n",
      "Noise 9: [0.65109551 0.00364698 0.06549326]\n",
      "Noise 10: [ 0.88111955 -0.01243978  0.05979133]\n"
     ]
    }
   ],
   "source": [
    "for i in range(len(list_para_curve)):\n",
    "    print(\"Noise \"+str(i)+\": \"+str(list_para_curve[i].reshape(3))) "
   ]
  },
  {
   "cell_type": "markdown",
   "id": "f1e5416d",
   "metadata": {},
   "source": [
    "## Save data"
   ]
  },
  {
   "cell_type": "code",
   "execution_count": 13,
   "id": "4b118db4",
   "metadata": {},
   "outputs": [],
   "source": [
    "#Save data in csv frame\n",
    "noise_df_pdefind.to_csv(filepath+\"/noise_pdefind.csv\",sep=';')\n",
    "noise_df_regr.to_csv(filepath+\"/noise_regression.csv\",sep=';')\n",
    "noise_df_curve.to_csv(filepath+\"/noise_curve.csv\",sep=';')"
   ]
  },
  {
   "cell_type": "markdown",
   "id": "caeffe56",
   "metadata": {},
   "source": [
    "### Frequency Fit: Perform several times\n",
    "Because Frequncy Fit depending on the random initialising of parameters will calculate differernt results,\n",
    "we perform Frequency Fit 20 times and then calculate the mean and standard deviation of the computed parameters.\n",
    "We will perform this without noise and with noise $10^{-5}$"
   ]
  },
  {
   "cell_type": "code",
   "execution_count": 14,
   "id": "25030ff8",
   "metadata": {},
   "outputs": [],
   "source": [
    "c=3\n",
    "T,X,t,x= create_data_2d(0,2,5,100,100)\n",
    "u = np.sin(X-c*T)+np.sin(X+c*T) + 4*X*T\n",
    "\n",
    "iter_num =20\n",
    "number_para = 3\n",
    "#Create dataframe for saving data\n",
    "df_curve_iter = pd.DataFrame(index=range(iter_num),columns=[\"parameters\",\"parameters with noise\"])\n",
    "df_curve_iter_stdmean=pd.DataFrame(index=range(number_para),columns = [\"mean\",\"std\",\"mean noise\",\"std noise\"])"
   ]
  },
  {
   "cell_type": "code",
   "execution_count": 15,
   "id": "871a4aff",
   "metadata": {},
   "outputs": [],
   "source": [
    "#without noise\n",
    "para_curve_fit_median = []\n",
    "for i in range(iter_num):\n",
    "    para_curve = frequency_method_curvefit(u,T,[x],ax=[0],order=2,print_loss=False,epochs=500,time_deriv=2)\n",
    "    para_curve=np.array(revert_torchparameterlist_tolist(para_curve)).reshape(number_para)\n",
    "    df_curve_iter.at[i,\"parameters\"]=para_curve\n",
    "    para_curve_fit_median.append(para_curve) "
   ]
  },
  {
   "cell_type": "code",
   "execution_count": 16,
   "id": "e6d6e03e",
   "metadata": {},
   "outputs": [],
   "source": [
    "#with noise\n",
    "para_curve_fit_median_noise = []\n",
    "u_rms = np.sqrt(np.mean(u*u))\n",
    "eps = 1e-5\n",
    "std_deviation = eps*u_rms\n",
    "noise = np.random.normal(0,std_deviation,u.shape)\n",
    "u_noise = u.copy()+noise\n",
    "for i in range(iter_num):\n",
    "    para_curve = frequency_method_curvefit(u_noise,T,[x],ax=[0],order=2,print_loss=False,epochs=500,time_deriv=2)\n",
    "    para_curve=np.array(revert_torchparameterlist_tolist(para_curve)).reshape(number_para)\n",
    "    df_curve_iter.at[i,\"parameters with noise\"]=para_curve\n",
    "    para_curve_fit_median_noise.append(para_curve) "
   ]
  },
  {
   "cell_type": "markdown",
   "id": "0c2a2639",
   "metadata": {},
   "source": [
    "#### Save results"
   ]
  },
  {
   "cell_type": "code",
   "execution_count": 17,
   "id": "aad85154",
   "metadata": {},
   "outputs": [],
   "source": [
    "mean = np.zeros(number_para)\n",
    "std = np.zeros(number_para)\n",
    "mean_noise = mean.copy()\n",
    "std_noise = std.copy()\n",
    "for i in range(len(mean)):\n",
    "    #no noise\n",
    "    para = [v[i] for v in para_curve_fit_median]\n",
    "    mean[i] = np.mean(para)\n",
    "    std[i] = np.std(para)\n",
    "    #with noiese\n",
    "    para_noise = [v[i] for v in para_curve_fit_median_noise]\n",
    "    mean_noise[i] = np.mean(para_noise)\n",
    "    std_noise[i] = np.std(para_noise)"
   ]
  },
  {
   "cell_type": "code",
   "execution_count": 27,
   "id": "8a9b9e42",
   "metadata": {},
   "outputs": [],
   "source": [
    "#Save mean and standard deviation in dataframe\n",
    "df_curve_iter_stdmean[\"mean\"]=mean\n",
    "df_curve_iter_stdmean[\"std\"]=std\n",
    "df_curve_iter_stdmean[\"mean noise\"]=mean_noise\n",
    "df_curve_iter_stdmean[\"std noise\"]=std_noise"
   ]
  },
  {
   "cell_type": "markdown",
   "id": "93a0b267",
   "metadata": {},
   "source": [
    "#### Print parameters without noise: "
   ]
  },
  {
   "cell_type": "code",
   "execution_count": 21,
   "id": "0e842e19",
   "metadata": {},
   "outputs": [
    {
     "data": {
      "text/plain": [
       "[array([ 0.48203432,  0.08683503, -0.09203311]),\n",
       " array([ 0.5370496 , -0.1458299 , -0.15341582]),\n",
       " array([ 1.70206907,  0.46310605, -0.01006694]),\n",
       " array([ 0.53680147, -0.06214446, -0.05845854]),\n",
       " array([ 0.64458587,  0.14368356, -0.10704918]),\n",
       " array([ 1.45204613,  0.37151625, -0.00755886]),\n",
       " array([ 0.53964118, -0.16465128, -0.07808125]),\n",
       " array([ 0.46898727,  0.13530333, -0.14667994]),\n",
       " array([ 0.60638306, -0.14964061, -0.11498083]),\n",
       " array([ 0.43667257, -0.0252464 , -0.06027787]),\n",
       " array([ 1.68623839, -0.51864342,  0.15399358]),\n",
       " array([ 0.40063547, -0.01717717, -0.0163656 ]),\n",
       " array([ 0.58465657, -0.16520689, -0.08851167]),\n",
       " array([ 0.49565262, -0.08779484, -0.01222039]),\n",
       " array([ 0.48143918, -0.0563566 , -0.00625451]),\n",
       " array([ 0.55730357, -0.10605186, -0.07228787]),\n",
       " array([ 2.05046552, -0.62305107,  0.12945666]),\n",
       " array([ 0.55088133,  0.10335117, -0.09526559]),\n",
       " array([ 1.2357232 ,  0.3474589 , -0.00758531]),\n",
       " array([ 0.50689948, -0.04385726, -0.0983532 ])]"
      ]
     },
     "execution_count": 21,
     "metadata": {},
     "output_type": "execute_result"
    }
   ],
   "source": [
    "para_curve_fit_median"
   ]
  },
  {
   "cell_type": "markdown",
   "id": "ac6f29f4",
   "metadata": {},
   "source": [
    "#### Print parameters with noise: "
   ]
  },
  {
   "cell_type": "code",
   "execution_count": 22,
   "id": "ad83c235",
   "metadata": {},
   "outputs": [
    {
     "data": {
      "text/plain": [
       "[array([ 0.53711297,  0.06331347, -0.06369326]),\n",
       " array([0.63212224, 0.36200445, 0.17995608]),\n",
       " array([ 0.59623271,  0.11053973, -0.09582153]),\n",
       " array([ 0.9470136 ,  0.93747845, -0.09459959]),\n",
       " array([ 0.66211429, -0.13418872, -0.01599292]),\n",
       " array([ 0.54604302,  0.0456167 , -0.11512092]),\n",
       " array([ 1.88750291, -0.47690249,  0.03986595]),\n",
       " array([ 1.97415251, -0.57543565,  0.0905252 ]),\n",
       " array([ 0.57863328, -0.01960772, -0.02491853]),\n",
       " array([ 0.4991187 , -0.00210782, -0.07259604]),\n",
       " array([ 0.49529329, -0.0098271 , -0.06105234]),\n",
       " array([ 0.4983613 ,  0.02380553, -0.08707114]),\n",
       " array([ 0.47168795, -0.04379076, -0.02022746]),\n",
       " array([ 0.55804787, -0.01525259, -0.06439864]),\n",
       " array([ 0.60632836, -0.13907347, -0.04208468]),\n",
       " array([ 0.58785096, -0.20341524, -0.02844931]),\n",
       " array([ 0.50481287, -0.03600698, -0.00169503]),\n",
       " array([ 0.57341209, -0.12404147, -0.12694735]),\n",
       " array([2.66544894, 1.34472164, 0.25887286]),\n",
       " array([ 0.49391496, -0.01200793, -0.08200139])]"
      ]
     },
     "execution_count": 22,
     "metadata": {},
     "output_type": "execute_result"
    }
   ],
   "source": [
    "para_curve_fit_median_noise"
   ]
  },
  {
   "cell_type": "markdown",
   "id": "2affcc22",
   "metadata": {},
   "source": [
    "## Save data"
   ]
  },
  {
   "cell_type": "code",
   "execution_count": 29,
   "id": "5ed0dd18",
   "metadata": {},
   "outputs": [],
   "source": [
    "#Save data in csv frame\n",
    "df_curve_iter.to_csv(filepath+\"/curve_iter.csv\",sep=';')\n",
    "df_curve_iter_stdmean.to_csv(filepath+\"/curve_iter_meanstd.csv\",sep=';')"
   ]
  }
 ],
 "metadata": {
  "kernelspec": {
   "display_name": "Python 3 (ipykernel)",
   "language": "python",
   "name": "python3"
  },
  "language_info": {
   "codemirror_mode": {
    "name": "ipython",
    "version": 3
   },
   "file_extension": ".py",
   "mimetype": "text/x-python",
   "name": "python",
   "nbconvert_exporter": "python",
   "pygments_lexer": "ipython3",
   "version": "3.7.13"
  }
 },
 "nbformat": 4,
 "nbformat_minor": 5
}
