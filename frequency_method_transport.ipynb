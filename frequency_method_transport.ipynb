{
 "cells": [
  {
   "cell_type": "markdown",
   "id": "e0fc3a67",
   "metadata": {},
   "source": [
    "# Test Frequency Methods on transport equation $u_t = -c u_x$\n",
    "Compare Frequency Regression, Frequency Fit and PDE-FIND on the transport equaton."
   ]
  },
  {
   "cell_type": "code",
   "execution_count": 1,
   "id": "1e1b3468",
   "metadata": {},
   "outputs": [],
   "source": [
    "# Packages\n",
    "import numpy as np\n",
    "import torch\n",
    "import math\n",
    "import matplotlib.pyplot as plt\n",
    "import scipy.linalg\n",
    "import statsmodels.api as sm\n",
    "import itertools\n",
    "import pysindy as ps\n",
    "import pandas as pd\n",
    "\n",
    "from scipy.optimize import minimize\n",
    "from scipy.fft import fftn, ifftn, fftfreq,fft\n",
    "\n",
    "from ipynb.fs.full.frequency_method_functions import *"
   ]
  },
  {
   "cell_type": "code",
   "execution_count": 2,
   "id": "14aac2c8",
   "metadata": {
    "scrolled": true
   },
   "outputs": [],
   "source": [
    "#L_2 norm for parameter lists\n",
    "def distance_para(lista,listb):\n",
    "    return np.sqrt( np.square(np.array(lista)-np.array(listb)).sum() ) \n",
    "\n",
    "#Revert torch parameter list back to list, so distance_para calc is possible\n",
    "def revert_torchparameterlist_tolist(parameter_list):\n",
    "    for i in range(len(parameter_list)):\n",
    "        parameter_list[i]=parameter_list[i].detach().numpy()\n",
    "    parameter_list=parameter_list\n",
    "    return parameter_list"
   ]
  },
  {
   "cell_type": "markdown",
   "id": "82c4532c",
   "metadata": {},
   "source": [
    "### Transport equation: $u_t = -c u_x$\n",
    "General solution: $$ u(x,t) = \\phi(x-ct)$$"
   ]
  },
  {
   "cell_type": "code",
   "execution_count": 3,
   "id": "08d12f32",
   "metadata": {},
   "outputs": [],
   "source": [
    "#Create dataframes to save data\n",
    "c = -5.0\n",
    "#filepath where you want to save the files\n",
    "filepath=r\"/home/math/hauger/Dokumente/Bachelor-Arbeit/results_data/transport_equation\"\n",
    "noise_df_pdefind = pd.DataFrame(index=range(0,11),columns=[\"parameters\",\"standard deviation\",\"distance\",\"eps\"])\n",
    "noise_df_regr = pd.DataFrame(index=range(0,11),columns=[\"parameters\",\"standard deviation\",\"distance\",\"eps\"])\n",
    "noise_df_curve = pd.DataFrame(index=range(0,11),columns=[\"parameters\",\"standard deviation\",\"distance\",\"eps\"])\n",
    "\n",
    "real_para_curve = [0,-c]\n",
    "real_para_pdefind = [[-c]]\n",
    "real_para_regr = [0,-c]\n",
    "\n",
    "list_para_pdefind =[]\n",
    "list_para_regr=[]\n",
    "list_para_curve =[]"
   ]
  },
  {
   "cell_type": "code",
   "execution_count": 4,
   "id": "71e48369",
   "metadata": {},
   "outputs": [
    {
     "name": "stdout",
     "output_type": "stream",
     "text": [
      "Real Coefficients\n",
      "(0, 5.0)\n",
      "Regression\n",
      "[0.02220298 4.60901435]\n",
      "PDE-Find\n",
      "(u)' = 4.571 u_1\n"
     ]
    }
   ],
   "source": [
    "T,X,t,x= create_data_2d(0,2,5,20,20)\n",
    "u = np.log(abs(X-c*T)+1)\n",
    "\n",
    "print(\"Real Coefficients\")\n",
    "print((0,-c))\n",
    "print(\"Regression\")\n",
    "para_regr=frequency_method_regr(u,[x,t],order=1)\n",
    "print(para_regr)\n",
    "print(\"PDE-Find\")\n",
    "para_find=pde_find(u,t,x,order=1)"
   ]
  },
  {
   "cell_type": "code",
   "execution_count": 5,
   "id": "7b054368",
   "metadata": {},
   "outputs": [
    {
     "name": "stdout",
     "output_type": "stream",
     "text": [
      "CurveFit\n"
     ]
    },
    {
     "name": "stderr",
     "output_type": "stream",
     "text": [
      "/home/math/hauger/anaconda3/envs/ba/lib/python3.9/site-packages/torch/autograd/__init__.py:154: UserWarning: Casting complex values to real discards the imaginary part (Triggered internally at  /opt/conda/conda-bld/pytorch_1648016052946/work/aten/src/ATen/native/Copy.cpp:244.)\n",
      "  Variable._execution_engine.run_backward(\n"
     ]
    },
    {
     "name": "stdout",
     "output_type": "stream",
     "text": [
      "99 1.6342904970060983\n",
      "[Parameter containing:\n",
      "tensor([0.5597], dtype=torch.float64, requires_grad=True), Parameter containing:\n",
      "tensor([1.3108], dtype=torch.float64, requires_grad=True)]\n",
      "199 1.6326536319945584\n",
      "[Parameter containing:\n",
      "tensor([0.5598], dtype=torch.float64, requires_grad=True), Parameter containing:\n",
      "tensor([1.2807], dtype=torch.float64, requires_grad=True)]\n",
      "299 1.6326740877067982\n",
      "[Parameter containing:\n",
      "tensor([0.5586], dtype=torch.float64, requires_grad=True), Parameter containing:\n",
      "tensor([1.2805], dtype=torch.float64, requires_grad=True)]\n",
      "399 1.6325404582424445\n",
      "[Parameter containing:\n",
      "tensor([0.5593], dtype=torch.float64, requires_grad=True), Parameter containing:\n",
      "tensor([1.2805], dtype=torch.float64, requires_grad=True)]\n",
      "499 1.6326592651424736\n",
      "[Parameter containing:\n",
      "tensor([0.5587], dtype=torch.float64, requires_grad=True), Parameter containing:\n",
      "tensor([1.2805], dtype=torch.float64, requires_grad=True)]\n"
     ]
    },
    {
     "data": {
      "image/png": "[encoded data removed]",
      "text/plain": [
       "<Figure size 640x480 with 1 Axes>"
      ]
     },
     "metadata": {},
     "output_type": "display_data"
    },
    {
     "name": "stdout",
     "output_type": "stream",
     "text": [
      "[Parameter containing:\n",
      "tensor([0.5584], dtype=torch.float64, requires_grad=True), Parameter containing:\n",
      "tensor([1.2805], dtype=torch.float64, requires_grad=True)]\n"
     ]
    }
   ],
   "source": [
    "print(\"Curve Fit\")\n",
    "para_curve = frequency_method_curvefit(u,T,[x],ax=[0],order=1,print_loss=True,epochs=500,learning_rate=0.01)\n",
    "print(para_curve)"
   ]
  },
  {
   "cell_type": "code",
   "execution_count": 6,
   "id": "9b49ab8c",
   "metadata": {},
   "outputs": [],
   "source": [
    "noise_df_pdefind.loc[0,[\"standard deviation\",\"eps\",\"distance\"]]=[0.0,0.0,distance_para(para_find,real_para_pdefind)]\n",
    "noise_df_pdefind.at[0,\"parameters\"]=para_find\n",
    "\n",
    "noise_df_regr.loc[0,[\"standard deviation\",\"eps\",\"distance\"]]=[0.0,0.0,distance_para(para_regr,real_para_regr)]\n",
    "noise_df_regr.at[0,\"parameters\"]=para_regr\n",
    "\n",
    "para_curve=np.array(revert_torchparameterlist_tolist(para_curve)).reshape(2)\n",
    "noise_df_curve.loc[0,[\"standard deviation\",\"eps\",\"distance\"]]=[0.0,0.0,distance_para(para_curve,real_para_curve)]\n",
    "noise_df_curve.at[0,\"parameters\"]=para_curve\n",
    "\n",
    "list_para_pdefind.append(para_find)\n",
    "list_para_regr.append(para_regr)\n",
    "list_para_curve.append(para_curve)"
   ]
  },
  {
   "cell_type": "markdown",
   "id": "092df043",
   "metadata": {},
   "source": [
    "#### Add noise and save results"
   ]
  },
  {
   "cell_type": "markdown",
   "id": "0933bdfd",
   "metadata": {},
   "source": [
    "#### 1. Calculate results for Frequency Regression and PDE-FIND with noise"
   ]
  },
  {
   "cell_type": "code",
   "execution_count": 7,
   "id": "0ecd4e23",
   "metadata": {},
   "outputs": [],
   "source": [
    "u_rms = np.sqrt(np.mean(u*u))\n",
    "eps = 1e-10\n",
    "std_deviation = eps*u_rms\n",
    "\n",
    "for i in range (0,10):\n",
    "    noise = np.random.normal(0,std_deviation,u.shape)\n",
    "    u_noise = u.copy()+noise\n",
    "    #Calculate parameters\n",
    "    para_pdefind = pde_find(u_noise,t,x,order=1,print_model=False)\n",
    "    para_regr = frequency_method_regr(u_noise,[x,t],order=1)\n",
    "    #Save std_dev, distance, eps in dataframe\n",
    "    noise_df_pdefind.loc[i+1,[\"standard deviation\",\"distance\",\"eps\"]] = [std_deviation,\n",
    "                                                                       distance_para(para_pdefind,real_para_pdefind)\n",
    "                                                                       ,eps]\n",
    "    noise_df_regr.loc[i+1,[\"standard deviation\",\"distance\",\"eps\"]] = [std_deviation,\n",
    "                                                                       distance_para(para_regr,real_para_regr)\n",
    "                                                                    ,eps]\n",
    "    #Save parameters\n",
    "    list_para_pdefind.append(para_pdefind)\n",
    "    list_para_regr.append(para_regr)\n",
    "    noise_df_pdefind.at[i+1,\"parameters\"]=para_pdefind\n",
    "    noise_df_regr.at[i+1,\"parameters\"]=para_regr\n",
    "    \n",
    "    #Update noise\n",
    "    eps *=10\n",
    "    std_deviation *=10"
   ]
  },
  {
   "cell_type": "markdown",
   "id": "7841546f",
   "metadata": {},
   "source": [
    "#### 2. Calculate results for Frequency Fit with Noise"
   ]
  },
  {
   "cell_type": "code",
   "execution_count": 8,
   "id": "c8e55cc6",
   "metadata": {},
   "outputs": [],
   "source": [
    "# Frequency Fit\n",
    "u_rms = np.sqrt(np.mean(u*u))\n",
    "eps = 1e-10\n",
    "std_deviation = eps*u_rms\n",
    "\n",
    "for i in range (10):\n",
    "    noise = np.random.normal(0,std_deviation,u.shape)\n",
    "    u_noise = u.copy()+noise\n",
    "    #Calculate parameters\n",
    "    para_curve=frequency_method_curvefit(u_noise,T,[x],ax=[0],order=1,print_loss=False,epochs=500,learning_rate=0.01)\n",
    "    para_curve=np.array(revert_torchparameterlist_tolist(para_curve)).reshape(2)\n",
    "    #Save std_dev, distance, eps in dataframe\n",
    "    noise_df_curve.loc[i+1,[\"standard deviation\",\"distance\",\"eps\"]] = [std_deviation,\n",
    "                                                                       distance_para(para_curve,real_para_curve)\n",
    "                                                                      ,eps]\n",
    "    #Save parameters\n",
    "    list_para_curve.append(para_curve)\n",
    "    noise_df_curve.at[i+1,\"parameters\"]=para_curve\n",
    "    \n",
    "    #Update noise\n",
    "    eps *=10\n",
    "    std_deviation *=10"
   ]
  },
  {
   "cell_type": "markdown",
   "id": "18c2513c",
   "metadata": {},
   "source": [
    "#### Plot Noise"
   ]
  },
  {
   "cell_type": "code",
   "execution_count": 9,
   "id": "666cd1fb",
   "metadata": {},
   "outputs": [
    {
     "data": {
      "image/png": "[encoded data removed]",
      "text/plain": [
       "<Figure size 550x350 with 1 Axes>"
      ]
     },
     "metadata": {},
     "output_type": "display_data"
    }
   ],
   "source": [
    "plt.figure(figsize=(5.5,3.5))\n",
    "mysize=8\n",
    "xticks=[\"$\\mathregular{0}$\"]\n",
    "for i in range(10):\n",
    "    xticks.append(\"$\\mathregular{10^{\"+str(-10+i)+\"}}$\")\n",
    "\n",
    "ax=plt.subplot(111)\n",
    "default_x_ticks = range(len(xticks))\n",
    "ax.plot(default_x_ticks,noise_df_pdefind[\"distance\"],'s-',color='tab:blue',label = 'PDE-FIND')\n",
    "ax.plot(default_x_ticks,noise_df_regr[\"distance\"],'s-',color='tab:orange',label='Frequency Regression')\n",
    "ax.plot(default_x_ticks,noise_df_curve[\"distance\"],'s-',color='tab:green',label='Frequency Fit')\n",
    "ax.ticklabel_format(style='sci',scilimits=(-3,4),axis='both')\n",
    "plt.xlabel(\"noise\",size=mysize)\n",
    "plt.ylabel(\"distance\",size=mysize)\n",
    "plt.xticks(default_x_ticks, xticks,size=mysize)\n",
    "plt.legend(loc=2,prop={'size': 7})\n",
    "ax.spines.right.set_visible(False)\n",
    "ax.spines.top.set_visible(False)\n",
    "plt.show()"
   ]
  },
  {
   "cell_type": "markdown",
   "id": "ab2174bb",
   "metadata": {},
   "source": [
    "#### Print parameters with noise: "
   ]
  },
  {
   "cell_type": "markdown",
   "id": "4cd2e2dc",
   "metadata": {},
   "source": [
    "PDE-FIND"
   ]
  },
  {
   "cell_type": "code",
   "execution_count": 10,
   "id": "362dba0b",
   "metadata": {
    "scrolled": true
   },
   "outputs": [
    {
     "name": "stdout",
     "output_type": "stream",
     "text": [
      "Noise 0: [[4.57129237]]\n",
      "Noise 1: [[4.57129237]]\n",
      "Noise 2: [[4.57129237]]\n",
      "Noise 3: [[4.57129237]]\n",
      "Noise 4: [[4.57129326]]\n",
      "Noise 5: [[4.57127461]]\n",
      "Noise 6: [[4.5712568]]\n",
      "Noise 7: [[4.5712283]]\n",
      "Noise 8: [[4.57796826]]\n",
      "Noise 9: [[4.47581985]]\n",
      "Noise 10: [[0.44714575]]\n"
     ]
    }
   ],
   "source": [
    "for i in range(len(list_para_pdefind)):\n",
    "    print(\"Noise \"+str(i)+\": \"+str(list_para_pdefind[i])) "
   ]
  },
  {
   "cell_type": "markdown",
   "id": "35836a16",
   "metadata": {},
   "source": [
    "Frequency Regression"
   ]
  },
  {
   "cell_type": "code",
   "execution_count": 11,
   "id": "03d4030f",
   "metadata": {},
   "outputs": [
    {
     "name": "stdout",
     "output_type": "stream",
     "text": [
      "Noise 0: [0.02220298 4.60901435]\n",
      "Noise 1: [0.02261524 4.60884408]\n",
      "Noise 2: [0.02221871 4.60900798]\n",
      "Noise 3: [0.02216395 4.60903154]\n",
      "Noise 4: [0.02216406 4.60904083]\n",
      "Noise 5: [0.02221973 4.60890971]\n",
      "Noise 6: [0.02232057 4.60948354]\n",
      "Noise 7: [0.02269396 4.60038099]\n",
      "Noise 8: [0.02669329 4.62651133]\n",
      "Noise 9: [0.10562948 3.45257146]\n",
      "Noise 10: [0.34626809 0.06004087]\n"
     ]
    }
   ],
   "source": [
    "for i in range(len(list_para_regr)):\n",
    "    print(\"Noise \"+str(i)+\": \"+str(list_para_regr[i])) "
   ]
  },
  {
   "cell_type": "markdown",
   "id": "dac107a5",
   "metadata": {},
   "source": [
    "Frequency Fit"
   ]
  },
  {
   "cell_type": "code",
   "execution_count": 12,
   "id": "bfaf9424",
   "metadata": {
    "scrolled": true
   },
   "outputs": [
    {
     "name": "stdout",
     "output_type": "stream",
     "text": [
      "Noise 0: [0.558384   1.28048532]\n",
      "Noise 1: [0.55927458 1.280475  ]\n",
      "Noise 2: [0.55663981 1.28048041]\n",
      "Noise 3: [0.55790079 1.28047513]\n",
      "Noise 4: [0.55941808 1.28048293]\n",
      "Noise 5: [0.556756   1.28048801]\n",
      "Noise 6: [0.56039046 1.28048029]\n",
      "Noise 7: [0.5587084  1.28024131]\n",
      "Noise 8: [0.55940537 1.28085017]\n",
      "Noise 9: [0.56489547 1.30526656]\n",
      "Noise 10: [-0.39245819  0.24235153]\n"
     ]
    }
   ],
   "source": [
    "for i in range(len(list_para_curve)):\n",
    "    print(\"Noise \"+str(i)+\": \"+str(list_para_curve[i].reshape(2))) "
   ]
  },
  {
   "cell_type": "markdown",
   "id": "e543cc15",
   "metadata": {},
   "source": [
    "## Save data"
   ]
  },
  {
   "cell_type": "code",
   "execution_count": 13,
   "id": "f94530f0",
   "metadata": {},
   "outputs": [],
   "source": [
    "#Save data in csv frame\n",
    "noise_df_pdefind.to_csv(filepath+\"/noise_pdefind.csv\",sep=';')\n",
    "noise_df_regr.to_csv(filepath+\"/noise_regression.csv\",sep=';')\n",
    "noise_df_curve.to_csv(filepath+\"/noise_curve.csv\",sep=';')"
   ]
  },
  {
   "cell_type": "markdown",
   "id": "caeffe56",
   "metadata": {},
   "source": [
    "### Frequency Fit: Perform several times\n",
    "Because Frequency Fit depending on the random initialising of parameters will calculate differernt results,\n",
    "we perform Frequency Fit 20 times and then calculate the mean and standard deviation of the computed parameters.\n",
    "We will perform this without noise and with noise $10^{-5}$"
   ]
  },
  {
   "cell_type": "code",
   "execution_count": 14,
   "id": "25030ff8",
   "metadata": {},
   "outputs": [],
   "source": [
    "c = -5.0\n",
    "T,X,t,x= create_data_2d(0,2,5,20,20)\n",
    "u = np.log(abs(X-c*T)+1)\n",
    "number_para = 2\n",
    "iter_num =20\n",
    "\n",
    "#Create dataframe for saving data\n",
    "df_curve_iter = pd.DataFrame(index=range(iter_num),columns=[\"parameters\",\"parameters with noise\"])\n",
    "df_curve_iter_stdmean=pd.DataFrame(index=range(number_para))"
   ]
  },
  {
   "cell_type": "code",
   "execution_count": 15,
   "id": "871a4aff",
   "metadata": {},
   "outputs": [],
   "source": [
    "#without noise\n",
    "para_curve_fit_median = []\n",
    "for i in range(iter_num):\n",
    "    para_curve = frequency_method_curvefit(u,T,[x],ax=[0],order=1,print_loss=False,epochs=500,learning_rate=0.01)\n",
    "    para_curve=np.array(revert_torchparameterlist_tolist(para_curve)).reshape(number_para)\n",
    "    df_curve_iter.at[i,\"parameters\"]=para_curve\n",
    "    para_curve_fit_median.append(para_curve) "
   ]
  },
  {
   "cell_type": "code",
   "execution_count": 16,
   "id": "e6d6e03e",
   "metadata": {},
   "outputs": [],
   "source": [
    "#with noise\n",
    "para_curve_fit_median_noise = []\n",
    "u_rms = np.sqrt(np.mean(u*u))\n",
    "eps = 1e-5\n",
    "std_deviation = eps*u_rms\n",
    "noise = np.random.normal(0,std_deviation,u.shape)\n",
    "u_noise = u.copy()+noise\n",
    "for i in range(iter_num):\n",
    "    para_curve = frequency_method_curvefit(u_noise,T,[x],ax=[0],order=1,print_loss=False,epochs=500,learning_rate=0.01)\n",
    "    para_curve=np.array(revert_torchparameterlist_tolist(para_curve)).reshape(number_para)\n",
    "    df_curve_iter.at[i,\"parameters with noise\"]=para_curve\n",
    "    para_curve_fit_median_noise.append(para_curve) "
   ]
  },
  {
   "cell_type": "markdown",
   "id": "0c2a2639",
   "metadata": {},
   "source": [
    "#### Save results"
   ]
  },
  {
   "cell_type": "code",
   "execution_count": 17,
   "id": "aad85154",
   "metadata": {},
   "outputs": [],
   "source": [
    "mean = np.zeros(number_para)\n",
    "std = np.zeros(number_para)\n",
    "mean_noise = mean.copy()\n",
    "std_noise = std.copy()\n",
    "boxplot_data=[]\n",
    "boxplot_data_noise=[]\n",
    "for i in range(len(mean)):\n",
    "    #no noise\n",
    "    para = [v[i] for v in para_curve_fit_median]\n",
    "    mean[i] = np.mean(para)\n",
    "    std[i] = np.std(para)\n",
    "    boxplot_data.append(np.array(para))\n",
    "    #with noiese\n",
    "    para_noise = [v[i] for v in para_curve_fit_median_noise]\n",
    "    mean_noise[i] = np.mean(para_noise)\n",
    "    std_noise[i] = np.std(para_noise)\n",
    "    boxplot_data_noise.append(np.array(para))"
   ]
  },
  {
   "cell_type": "code",
   "execution_count": 18,
   "id": "e4f8ec42",
   "metadata": {},
   "outputs": [],
   "source": [
    "#Save mean and standard deviation in dataframe\n",
    "df_curve_iter_stdmean[\"mean\",\"std\"]=[mean,std]\n",
    "df_curve_iter_stdmean[\"mean with noise\",\"std with noise\"]=[mean_noise,std_noise]"
   ]
  },
  {
   "cell_type": "markdown",
   "id": "93a0b267",
   "metadata": {},
   "source": [
    "#### Print parameters without noise: "
   ]
  },
  {
   "cell_type": "code",
   "execution_count": 21,
   "id": "0e842e19",
   "metadata": {},
   "outputs": [
    {
     "data": {
      "text/plain": [
       "[array([0.56043806, 1.28047011]),\n",
       " array([0.56032059, 1.28049854]),\n",
       " array([0.55902397, 1.2804815 ]),\n",
       " array([0.55648325, 1.28049289]),\n",
       " array([0.55923516, 1.2804772 ]),\n",
       " array([0.55770282, 1.28049711]),\n",
       " array([0.55941402, 1.28048065]),\n",
       " array([0.55962549, 1.28047989]),\n",
       " array([0.56170932, 1.28048293]),\n",
       " array([0.55754936, 1.28049355]),\n",
       " array([0.55823329, 1.28049056]),\n",
       " array([0.56003582, 1.28047717]),\n",
       " array([0.55823182, 1.28047939]),\n",
       " array([0.55919997, 1.28047822]),\n",
       " array([0.55809732, 1.28048508]),\n",
       " array([0.56169601, 1.28048374]),\n",
       " array([0.55896197, 1.28048376]),\n",
       " array([0.55896433, 1.28047893]),\n",
       " array([0.56098187, 1.28047415]),\n",
       " array([0.55919583, 1.28046686])]"
      ]
     },
     "execution_count": 21,
     "metadata": {},
     "output_type": "execute_result"
    }
   ],
   "source": [
    "para_curve_fit_median"
   ]
  },
  {
   "cell_type": "markdown",
   "id": "ac6f29f4",
   "metadata": {},
   "source": [
    "#### Print parameters with noise: "
   ]
  },
  {
   "cell_type": "code",
   "execution_count": 22,
   "id": "ad83c235",
   "metadata": {},
   "outputs": [
    {
     "data": {
      "text/plain": [
       "[array([0.55869561, 1.28051062]),\n",
       " array([0.55938146, 1.28051248]),\n",
       " array([0.5599344 , 1.28050389]),\n",
       " array([0.55808403, 1.280512  ]),\n",
       " array([0.56177922, 1.28051836]),\n",
       " array([0.55954967, 1.28050587]),\n",
       " array([0.56063306, 1.28050847]),\n",
       " array([0.55719887, 1.28051796]),\n",
       " array([0.55704998, 1.28052488]),\n",
       " array([0.55891714, 1.28052279]),\n",
       " array([0.56084466, 1.28050931]),\n",
       " array([0.55936439, 1.28050877]),\n",
       " array([0.56138267, 1.28051248]),\n",
       " array([0.5587536 , 1.28050773]),\n",
       " array([0.56044189, 1.28050763]),\n",
       " array([0.55991296, 1.28050858]),\n",
       " array([0.5611351 , 1.28051471]),\n",
       " array([0.55744066, 1.28052569]),\n",
       " array([0.56324875, 1.28051366]),\n",
       " array([0.55985695, 1.28050238])]"
      ]
     },
     "execution_count": 22,
     "metadata": {},
     "output_type": "execute_result"
    }
   ],
   "source": [
    "para_curve_fit_median_noise"
   ]
  },
  {
   "cell_type": "markdown",
   "id": "60093248",
   "metadata": {},
   "source": [
    "## Save data"
   ]
  },
  {
   "cell_type": "code",
   "execution_count": 23,
   "id": "e3a89619",
   "metadata": {},
   "outputs": [],
   "source": [
    "#Save data in csv frame\n",
    "df_curve_iter.to_csv(filepath+\"/curve_iter.csv\",sep=';')\n",
    "df_curve_iter_stdmean.to_csv(filepath+\"/curve_iter_meanstd.csv\",sep=';')"
   ]
  }
 ],
 "metadata": {
  "kernelspec": {
   "display_name": "Python 3 (ipykernel)",
   "language": "python",
   "name": "python3"
  },
  "language_info": {
   "codemirror_mode": {
    "name": "ipython",
    "version": 3
   },
   "file_extension": ".py",
   "mimetype": "text/x-python",
   "name": "python",
   "nbconvert_exporter": "python",
   "pygments_lexer": "ipython3",
   "version": "3.7.13"
  }
 },
 "nbformat": 4,
 "nbformat_minor": 5
}
